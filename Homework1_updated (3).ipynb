{
  "nbformat": 4,
  "nbformat_minor": 0,
  "metadata": {
    "colab": {
      "name": "Homework1.ipynb",
      "provenance": [],
      "collapsed_sections": []
    },
    "kernelspec": {
      "display_name": "Python 3",
      "language": "python",
      "name": "python3"
    },
    "language_info": {
      "codemirror_mode": {
        "name": "ipython",
        "version": 3
      },
      "file_extension": ".py",
      "mimetype": "text/x-python",
      "name": "python",
      "nbconvert_exporter": "python",
      "pygments_lexer": "ipython3",
      "version": "3.7.4"
    }
  },
  "cells": [
    {
      "cell_type": "markdown",
      "metadata": {
        "id": "pyAl_6vZDDud"
      },
      "source": [
        "#### Changelog\n",
        "\n",
        "1. Q13.3 How many clams that are wider than 0.4, have first name \"Monster\"?   \n",
        "2. Q13.4 What was the second name of a clam captured at March, 8, that was longer than 0.65 and wider than 0.57?\n",
        "3. Q15.2 Create a new column `area` using diameter, length and considering that a clam is a perfect rectangle.\n",
        "4. Q19.4 `density_by_age` groupby `age_cat` and compute average density of a clam."
      ]
    },
    {
      "cell_type": "markdown",
      "metadata": {
        "id": "4fengSNSWl1X"
      },
      "source": [
        "# Assignment 1. Sea Ears.\n",
        "by Anvar Kurmukov,\n",
        "updated by Bogdan Kirillov\n",
        "\n",
        "---\n",
        "\n",
        "By the end of this task you will be able to manipulate huge tabular data:\n",
        "1. Compute different column's statistics (min, max, mean, quantiles etc.);\n",
        "2. Select observations/features by condition/index;\n",
        "3. Create new non-linear combinations of the columns (feature engineering);\n",
        "4. Perform automated data cleaning;\n",
        "\n",
        "and more.\n",
        "\n",
        "---\n",
        "\n",
        "For those who are not familiar with `pandas` we recommend these (alternative) tutorials:\n",
        "\n",
        "1. Single notebook, covers basic pandas functionality (starting with renaming columns ending with using map, apply etc) ~ 30 short examples with links on videos https://nbviewer.jupyter.org/github/justmarkham/pandas-videos/blob/master/pandas.ipynb . Highly recommended for everyone. (about 1-3 hours to go through)\n",
        "\n",
        "2. https://github.com/guipsamora/pandas_exercises/ 11 topics covering all essential functionality with excersises (with solutions).\n",
        "\n",
        "This task will be an easy ride after these tutorials.\n",
        "\n",
        "---"
      ]
    },
    {
      "cell_type": "markdown",
      "metadata": {
        "id": "zBv4L3BoWtY8"
      },
      "source": [
        "We are using the data on a species of clam called abalone, also known as \"Sea ears\". This dataset is in public domain and can be obtained from Delve: http://www.cs.toronto.edu/~delve/data/abalone/desc.html For this task, we have modified the dataset slightly, so you could try out some complicated data manipulation techniques while keeping the dataset as simple as possible. So, in our case, each abalone clam is a promising rapper who is ready for a debut mixtape.\n",
        "\n",
        "You need to place \"sea_ears.csv\" file in the same directory as this notebook.\n"
      ]
    },
    {
      "cell_type": "code",
      "metadata": {
        "id": "rYmsZ_BQWx6a"
      },
      "source": [
        "import numpy as np\n",
        "import pandas as pd"
      ],
      "execution_count": 153,
      "outputs": []
    },
    {
      "cell_type": "markdown",
      "metadata": {
        "id": "8mp5vQW5Xtw5"
      },
      "source": [
        "# 1. Loading data\n",
        "\n",
        "As always in Data Science you are starting with making nice cup of tea (or coffee). Your next move is to load the data:\n",
        "\n",
        "- Start with loading `sea_ears.csv` file using `pd.read_csv()` function.\n",
        "- You may also want to increase maximal displayed pandas columns: set `pd.options.display.max_columns` to 30\n",
        "- Print top 10 observations in the table. `.head()`\n",
        "- Print last 10 observations in the table. `.tail()`\n",
        "- Print all the data columns names using method `.columns`\n",
        "- Print data size (number of rows and columns). This is the `.shape` of the data.\n",
        "\n",
        "*Almost* every python has a `head` and a `tail` just as DataFrames do.\n",
        "\n",
        "If you are using Google Colab, you can upload the file in the cell below. If you are NOT using Colab, set COLAB_P in the cell below to False."
      ]
    },
    {
      "cell_type": "code",
      "metadata": {
        "colab": {
          "resources": {
            "http://localhost:8080/nbextensions/google.colab/files.js": {
              "data": "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",
              "ok": true,
              "headers": [
                [
                  "content-type",
                  "application/javascript"
                ]
              ],
              "status": 200,
              "status_text": ""
            }
          },
          "base_uri": "https://localhost:8080/",
          "height": 106
        },
        "id": "KS_2J7IXX9ZS",
        "outputId": "8eb7c2b3-80b1-475b-f51e-5926dfd8b7da"
      },
      "source": [
        "COLAB_P = True\n",
        "if COLAB_P:\n",
        "  print(\"Upload your file, then read it with pd.read_csv()\")\n",
        "  from google.colab import files\n",
        "  uploaded = files.upload()\n",
        "  fn = list(uploaded.keys())[0]\n",
        "  print(\"File is uploaded to \", fn)\n",
        "else:\n",
        "  print(\"Place your file to the same directory as the notebook, then read your file with pd.read_csv()\")"
      ],
      "execution_count": 154,
      "outputs": [
        {
          "output_type": "stream",
          "name": "stdout",
          "text": [
            "Upload your file, then read it with pd.read_csv()\n"
          ]
        },
        {
          "output_type": "display_data",
          "data": {
            "text/html": [
              "\n",
              "     <input type=\"file\" id=\"files-a351973f-e3cf-434c-ab79-94105108618b\" name=\"files[]\" multiple disabled\n",
              "        style=\"border:none\" />\n",
              "     <output id=\"result-a351973f-e3cf-434c-ab79-94105108618b\">\n",
              "      Upload widget is only available when the cell has been executed in the\n",
              "      current browser session. Please rerun this cell to enable.\n",
              "      </output>\n",
              "      <script src=\"/nbextensions/google.colab/files.js\"></script> "
            ],
            "text/plain": [
              "<IPython.core.display.HTML object>"
            ]
          },
          "metadata": {}
        },
        {
          "output_type": "stream",
          "name": "stdout",
          "text": [
            "Saving sea_ears.csv to sea_ears (2).csv\n",
            "File is uploaded to  sea_ears.csv\n"
          ]
        }
      ]
    },
    {
      "cell_type": "code",
      "metadata": {
        "id": "IMsqdgKrYugR"
      },
      "source": [
        "# Load the data\n",
        "\n",
        "df = pd.read_csv(\"sea_ears.csv\", index_col=0)"
      ],
      "execution_count": 155,
      "outputs": []
    },
    {
      "cell_type": "code",
      "metadata": {
        "id": "H0P12NdQZPxw",
        "colab": {
          "base_uri": "https://localhost:8080/",
          "height": 357
        },
        "outputId": "d94d096a-d1a3-4fc8-fcb1-82b4c7c84a8c"
      },
      "source": [
        "# Observe top 10 observations (int)\n",
        "df.head(10)"
      ],
      "execution_count": 156,
      "outputs": [
        {
          "output_type": "execute_result",
          "data": {
            "text/html": [
              "<div>\n",
              "<style scoped>\n",
              "    .dataframe tbody tr th:only-of-type {\n",
              "        vertical-align: middle;\n",
              "    }\n",
              "\n",
              "    .dataframe tbody tr th {\n",
              "        vertical-align: top;\n",
              "    }\n",
              "\n",
              "    .dataframe thead th {\n",
              "        text-align: right;\n",
              "    }\n",
              "</style>\n",
              "<table border=\"1\" class=\"dataframe\">\n",
              "  <thead>\n",
              "    <tr style=\"text-align: right;\">\n",
              "      <th></th>\n",
              "      <th>id</th>\n",
              "      <th>FN</th>\n",
              "      <th>SN</th>\n",
              "      <th>LN</th>\n",
              "      <th>Captured</th>\n",
              "      <th>Sex</th>\n",
              "      <th>Length</th>\n",
              "      <th>Diam</th>\n",
              "      <th>Height</th>\n",
              "      <th>Whole</th>\n",
              "      <th>Shucke</th>\n",
              "      <th>Viscera</th>\n",
              "      <th>Shell</th>\n",
              "      <th>Rings</th>\n",
              "    </tr>\n",
              "  </thead>\n",
              "  <tbody>\n",
              "    <tr>\n",
              "      <th>0</th>\n",
              "      <td>835</td>\n",
              "      <td>Kid</td>\n",
              "      <td>College</td>\n",
              "      <td>Machine</td>\n",
              "      <td>20200621T000000</td>\n",
              "      <td>I</td>\n",
              "      <td>0.450</td>\n",
              "      <td>0.350</td>\n",
              "      <td>0.130</td>\n",
              "      <td>0.5470</td>\n",
              "      <td>0.2450</td>\n",
              "      <td>0.1405</td>\n",
              "      <td>0.1405</td>\n",
              "      <td>8.0</td>\n",
              "    </tr>\n",
              "    <tr>\n",
              "      <th>1</th>\n",
              "      <td>540</td>\n",
              "      <td>Jalapeno</td>\n",
              "      <td>Glam</td>\n",
              "      <td>Machine</td>\n",
              "      <td>20200308T000000</td>\n",
              "      <td>F</td>\n",
              "      <td>0.500</td>\n",
              "      <td>0.375</td>\n",
              "      <td>0.140</td>\n",
              "      <td>0.6040</td>\n",
              "      <td>0.2420</td>\n",
              "      <td>0.1415</td>\n",
              "      <td>0.1790</td>\n",
              "      <td>15.0</td>\n",
              "    </tr>\n",
              "    <tr>\n",
              "      <th>2</th>\n",
              "      <td>2295</td>\n",
              "      <td>Baby</td>\n",
              "      <td>Full</td>\n",
              "      <td>Killer</td>\n",
              "      <td>20200222T000000</td>\n",
              "      <td>F</td>\n",
              "      <td>0.520</td>\n",
              "      <td>0.415</td>\n",
              "      <td>0.145</td>\n",
              "      <td>0.8045</td>\n",
              "      <td>0.3325</td>\n",
              "      <td>0.1725</td>\n",
              "      <td>0.2850</td>\n",
              "      <td>10.0</td>\n",
              "    </tr>\n",
              "    <tr>\n",
              "      <th>3</th>\n",
              "      <td>858</td>\n",
              "      <td>Kid</td>\n",
              "      <td>Rock</td>\n",
              "      <td>Head</td>\n",
              "      <td>20200222T000000</td>\n",
              "      <td>F</td>\n",
              "      <td>0.595</td>\n",
              "      <td>0.480</td>\n",
              "      <td>0.150</td>\n",
              "      <td>1.1100</td>\n",
              "      <td>0.4980</td>\n",
              "      <td>0.2280</td>\n",
              "      <td>0.3300</td>\n",
              "      <td>10.0</td>\n",
              "    </tr>\n",
              "    <tr>\n",
              "      <th>4</th>\n",
              "      <td>2329</td>\n",
              "      <td>Boy</td>\n",
              "      <td>Block</td>\n",
              "      <td>Death</td>\n",
              "      <td>20201219T000000</td>\n",
              "      <td>I</td>\n",
              "      <td>0.480</td>\n",
              "      <td>0.390</td>\n",
              "      <td>0.145</td>\n",
              "      <td>0.5825</td>\n",
              "      <td>0.2315</td>\n",
              "      <td>0.1210</td>\n",
              "      <td>0.2550</td>\n",
              "      <td>15.0</td>\n",
              "    </tr>\n",
              "    <tr>\n",
              "      <th>5</th>\n",
              "      <td>2648</td>\n",
              "      <td>DJ</td>\n",
              "      <td>Block</td>\n",
              "      <td>Head</td>\n",
              "      <td>20201224T000000</td>\n",
              "      <td>M</td>\n",
              "      <td>0.500</td>\n",
              "      <td>0.380</td>\n",
              "      <td>0.120</td>\n",
              "      <td>0.5765</td>\n",
              "      <td>0.2730</td>\n",
              "      <td>0.1350</td>\n",
              "      <td>0.1450</td>\n",
              "      <td>9.0</td>\n",
              "    </tr>\n",
              "    <tr>\n",
              "      <th>6</th>\n",
              "      <td>3723</td>\n",
              "      <td>Big</td>\n",
              "      <td>Full</td>\n",
              "      <td>Death</td>\n",
              "      <td>20200110T000000</td>\n",
              "      <td>I</td>\n",
              "      <td>0.470</td>\n",
              "      <td>0.355</td>\n",
              "      <td>0.120</td>\n",
              "      <td>0.4915</td>\n",
              "      <td>0.1765</td>\n",
              "      <td>0.1125</td>\n",
              "      <td>0.1325</td>\n",
              "      <td>9.0</td>\n",
              "    </tr>\n",
              "    <tr>\n",
              "      <th>7</th>\n",
              "      <td>251</td>\n",
              "      <td>Dungeon</td>\n",
              "      <td>Glam</td>\n",
              "      <td>Death</td>\n",
              "      <td>20200824T000000</td>\n",
              "      <td>M</td>\n",
              "      <td>0.590</td>\n",
              "      <td>0.470</td>\n",
              "      <td>0.180</td>\n",
              "      <td>1.1235</td>\n",
              "      <td>0.4205</td>\n",
              "      <td>0.2805</td>\n",
              "      <td>0.3600</td>\n",
              "      <td>13.0</td>\n",
              "    </tr>\n",
              "    <tr>\n",
              "      <th>8</th>\n",
              "      <td>1148</td>\n",
              "      <td>MC</td>\n",
              "      <td>College</td>\n",
              "      <td>Machine</td>\n",
              "      <td>20200623T000000</td>\n",
              "      <td>M</td>\n",
              "      <td>0.580</td>\n",
              "      <td>0.450</td>\n",
              "      <td>0.145</td>\n",
              "      <td>1.0025</td>\n",
              "      <td>0.5470</td>\n",
              "      <td>0.1975</td>\n",
              "      <td>0.2295</td>\n",
              "      <td>8.0</td>\n",
              "    </tr>\n",
              "    <tr>\n",
              "      <th>9</th>\n",
              "      <td>1949</td>\n",
              "      <td>Monster</td>\n",
              "      <td>Full</td>\n",
              "      <td>Kitty</td>\n",
              "      <td>20200202T000000</td>\n",
              "      <td>M</td>\n",
              "      <td>0.640</td>\n",
              "      <td>0.530</td>\n",
              "      <td>0.165</td>\n",
              "      <td>1.1895</td>\n",
              "      <td>0.4765</td>\n",
              "      <td>0.3000</td>\n",
              "      <td>0.3500</td>\n",
              "      <td>11.0</td>\n",
              "    </tr>\n",
              "  </tbody>\n",
              "</table>\n",
              "</div>"
            ],
            "text/plain": [
              "     id        FN       SN       LN         Captured Sex  Length   Diam  \\\n",
              "0   835       Kid  College  Machine  20200621T000000   I   0.450  0.350   \n",
              "1   540  Jalapeno     Glam  Machine  20200308T000000   F   0.500  0.375   \n",
              "2  2295      Baby     Full   Killer  20200222T000000   F   0.520  0.415   \n",
              "3   858       Kid     Rock     Head  20200222T000000   F   0.595  0.480   \n",
              "4  2329       Boy    Block    Death  20201219T000000   I   0.480  0.390   \n",
              "5  2648        DJ    Block     Head  20201224T000000   M   0.500  0.380   \n",
              "6  3723       Big     Full    Death  20200110T000000   I   0.470  0.355   \n",
              "7   251   Dungeon     Glam    Death  20200824T000000   M   0.590  0.470   \n",
              "8  1148        MC  College  Machine  20200623T000000   M   0.580  0.450   \n",
              "9  1949   Monster     Full    Kitty  20200202T000000   M   0.640  0.530   \n",
              "\n",
              "   Height   Whole  Shucke  Viscera   Shell  Rings  \n",
              "0   0.130  0.5470  0.2450   0.1405  0.1405    8.0  \n",
              "1   0.140  0.6040  0.2420   0.1415  0.1790   15.0  \n",
              "2   0.145  0.8045  0.3325   0.1725  0.2850   10.0  \n",
              "3   0.150  1.1100  0.4980   0.2280  0.3300   10.0  \n",
              "4   0.145  0.5825  0.2315   0.1210  0.2550   15.0  \n",
              "5   0.120  0.5765  0.2730   0.1350  0.1450    9.0  \n",
              "6   0.120  0.4915  0.1765   0.1125  0.1325    9.0  \n",
              "7   0.180  1.1235  0.4205   0.2805  0.3600   13.0  \n",
              "8   0.145  1.0025  0.5470   0.1975  0.2295    8.0  \n",
              "9   0.165  1.1895  0.4765   0.3000  0.3500   11.0  "
            ]
          },
          "metadata": {},
          "execution_count": 156
        }
      ]
    },
    {
      "cell_type": "code",
      "metadata": {
        "id": "lhow8gCsZUyT",
        "colab": {
          "base_uri": "https://localhost:8080/"
        },
        "outputId": "50681715-6ee3-4945-eedd-322084f2cd51"
      },
      "source": [
        "# Q1.1 What is the length of an abalone with id 986?\n",
        "# Q1.2 How many rings the fifth abalone with \"FN\" == \"Fresh\" has?\n",
        "# Q1.3 How many rings the sample with id 67 has?\n",
        "print(df[df['id']==67]['Rings'].iloc[0])\n",
        "# Q1.4 What is the `Height` of a thirty fourth sample with `Rings` == 10?\n",
        "# Q1.5 How heavy as a whole is the female abalone #6?\n",
        "print(df[df['Sex']=='F'].iloc[5]['Whole'])\n",
        "# Please note that for some questions there are several answers. If that's the \n",
        "# case, show all of them. Also for some, there is none. If so, show the shape \n",
        "# of returned series in your output.\n"
      ],
      "execution_count": 157,
      "outputs": [
        {
          "output_type": "stream",
          "name": "stdout",
          "text": [
            "13.0\n",
            "0.9790900275777944\n"
          ]
        }
      ]
    },
    {
      "cell_type": "code",
      "metadata": {
        "id": "MXEj8wifdVjV",
        "colab": {
          "base_uri": "https://localhost:8080/",
          "height": 357
        },
        "outputId": "fdbd5384-abbc-4fa5-ba4a-cd1f5d9e304f"
      },
      "source": [
        "# Observe last 10 observations (int)\n",
        "df.tail(10)"
      ],
      "execution_count": 158,
      "outputs": [
        {
          "output_type": "execute_result",
          "data": {
            "text/html": [
              "<div>\n",
              "<style scoped>\n",
              "    .dataframe tbody tr th:only-of-type {\n",
              "        vertical-align: middle;\n",
              "    }\n",
              "\n",
              "    .dataframe tbody tr th {\n",
              "        vertical-align: top;\n",
              "    }\n",
              "\n",
              "    .dataframe thead th {\n",
              "        text-align: right;\n",
              "    }\n",
              "</style>\n",
              "<table border=\"1\" class=\"dataframe\">\n",
              "  <thead>\n",
              "    <tr style=\"text-align: right;\">\n",
              "      <th></th>\n",
              "      <th>id</th>\n",
              "      <th>FN</th>\n",
              "      <th>SN</th>\n",
              "      <th>LN</th>\n",
              "      <th>Captured</th>\n",
              "      <th>Sex</th>\n",
              "      <th>Length</th>\n",
              "      <th>Diam</th>\n",
              "      <th>Height</th>\n",
              "      <th>Whole</th>\n",
              "      <th>Shucke</th>\n",
              "      <th>Viscera</th>\n",
              "      <th>Shell</th>\n",
              "      <th>Rings</th>\n",
              "    </tr>\n",
              "  </thead>\n",
              "  <tbody>\n",
              "    <tr>\n",
              "      <th>5690</th>\n",
              "      <td>3883</td>\n",
              "      <td>Big</td>\n",
              "      <td>Glam</td>\n",
              "      <td>Man</td>\n",
              "      <td>20200211T000000</td>\n",
              "      <td>M</td>\n",
              "      <td>0.540</td>\n",
              "      <td>0.425</td>\n",
              "      <td>0.120</td>\n",
              "      <td>0.8170</td>\n",
              "      <td>0.2945</td>\n",
              "      <td>0.1530</td>\n",
              "      <td>0.1950</td>\n",
              "      <td>10.0</td>\n",
              "    </tr>\n",
              "    <tr>\n",
              "      <th>5691</th>\n",
              "      <td>3731</td>\n",
              "      <td>Monster</td>\n",
              "      <td>Glock</td>\n",
              "      <td>Machine</td>\n",
              "      <td>20200411T000000</td>\n",
              "      <td>F</td>\n",
              "      <td>0.550</td>\n",
              "      <td>0.415</td>\n",
              "      <td>0.180</td>\n",
              "      <td>1.1655</td>\n",
              "      <td>0.5020</td>\n",
              "      <td>0.3010</td>\n",
              "      <td>0.3110</td>\n",
              "      <td>9.0</td>\n",
              "    </tr>\n",
              "    <tr>\n",
              "      <th>5692</th>\n",
              "      <td>3856</td>\n",
              "      <td>Jalapeno</td>\n",
              "      <td>Rock</td>\n",
              "      <td>Kitty</td>\n",
              "      <td>20200719T000000</td>\n",
              "      <td>I</td>\n",
              "      <td>0.335</td>\n",
              "      <td>0.255</td>\n",
              "      <td>0.085</td>\n",
              "      <td>0.1785</td>\n",
              "      <td>0.0710</td>\n",
              "      <td>0.0405</td>\n",
              "      <td>0.0550</td>\n",
              "      <td>9.0</td>\n",
              "    </tr>\n",
              "    <tr>\n",
              "      <th>5693</th>\n",
              "      <td>1631</td>\n",
              "      <td>Boss</td>\n",
              "      <td>Glock</td>\n",
              "      <td>Man</td>\n",
              "      <td>20200810T000000</td>\n",
              "      <td>I</td>\n",
              "      <td>0.570</td>\n",
              "      <td>0.445</td>\n",
              "      <td>0.145</td>\n",
              "      <td>0.7405</td>\n",
              "      <td>0.3060</td>\n",
              "      <td>0.1720</td>\n",
              "      <td>0.1825</td>\n",
              "      <td>12.0</td>\n",
              "    </tr>\n",
              "    <tr>\n",
              "      <th>5694</th>\n",
              "      <td>283</td>\n",
              "      <td>Jalapeno</td>\n",
              "      <td>Full</td>\n",
              "      <td>Killer</td>\n",
              "      <td>20200804T000000</td>\n",
              "      <td>M</td>\n",
              "      <td>0.485</td>\n",
              "      <td>0.395</td>\n",
              "      <td>0.140</td>\n",
              "      <td>0.6295</td>\n",
              "      <td>0.2285</td>\n",
              "      <td>0.1270</td>\n",
              "      <td>0.2250</td>\n",
              "      <td>14.0</td>\n",
              "    </tr>\n",
              "    <tr>\n",
              "      <th>5695</th>\n",
              "      <td>181</td>\n",
              "      <td>Big</td>\n",
              "      <td>Block</td>\n",
              "      <td>Head</td>\n",
              "      <td>20200512T000000</td>\n",
              "      <td>M</td>\n",
              "      <td>0.640</td>\n",
              "      <td>0.510</td>\n",
              "      <td>0.175</td>\n",
              "      <td>1.3680</td>\n",
              "      <td>0.5150</td>\n",
              "      <td>0.2660</td>\n",
              "      <td>0.5700</td>\n",
              "      <td>21.0</td>\n",
              "    </tr>\n",
              "    <tr>\n",
              "      <th>5696</th>\n",
              "      <td>1324</td>\n",
              "      <td>Jalapeno</td>\n",
              "      <td>Full</td>\n",
              "      <td>Head</td>\n",
              "      <td>20201215T000000</td>\n",
              "      <td>I</td>\n",
              "      <td>0.565</td>\n",
              "      <td>0.440</td>\n",
              "      <td>0.175</td>\n",
              "      <td>0.8735</td>\n",
              "      <td>0.4140</td>\n",
              "      <td>0.2100</td>\n",
              "      <td>0.2100</td>\n",
              "      <td>11.0</td>\n",
              "    </tr>\n",
              "    <tr>\n",
              "      <th>5697</th>\n",
              "      <td>1242</td>\n",
              "      <td>Lil'</td>\n",
              "      <td>Flow</td>\n",
              "      <td>Machine</td>\n",
              "      <td>20201206T000000</td>\n",
              "      <td>I</td>\n",
              "      <td>0.385</td>\n",
              "      <td>0.290</td>\n",
              "      <td>0.090</td>\n",
              "      <td>0.2615</td>\n",
              "      <td>0.1110</td>\n",
              "      <td>0.0595</td>\n",
              "      <td>0.0745</td>\n",
              "      <td>9.0</td>\n",
              "    </tr>\n",
              "    <tr>\n",
              "      <th>5698</th>\n",
              "      <td>2842</td>\n",
              "      <td>Boss</td>\n",
              "      <td>Full</td>\n",
              "      <td>Killer</td>\n",
              "      <td>20200101T000000</td>\n",
              "      <td>M</td>\n",
              "      <td>0.600</td>\n",
              "      <td>0.475</td>\n",
              "      <td>0.175</td>\n",
              "      <td>1.1100</td>\n",
              "      <td>0.5105</td>\n",
              "      <td>0.2560</td>\n",
              "      <td>0.2850</td>\n",
              "      <td>9.0</td>\n",
              "    </tr>\n",
              "    <tr>\n",
              "      <th>5699</th>\n",
              "      <td>2071</td>\n",
              "      <td>Baby</td>\n",
              "      <td>Glock</td>\n",
              "      <td>Machine</td>\n",
              "      <td>20200119T000000</td>\n",
              "      <td>F</td>\n",
              "      <td>0.565</td>\n",
              "      <td>0.440</td>\n",
              "      <td>0.135</td>\n",
              "      <td>0.8300</td>\n",
              "      <td>0.3930</td>\n",
              "      <td>0.1735</td>\n",
              "      <td>0.2380</td>\n",
              "      <td>9.0</td>\n",
              "    </tr>\n",
              "  </tbody>\n",
              "</table>\n",
              "</div>"
            ],
            "text/plain": [
              "        id        FN     SN       LN         Captured Sex  Length   Diam  \\\n",
              "5690  3883       Big   Glam      Man  20200211T000000   M   0.540  0.425   \n",
              "5691  3731   Monster  Glock  Machine  20200411T000000   F   0.550  0.415   \n",
              "5692  3856  Jalapeno   Rock    Kitty  20200719T000000   I   0.335  0.255   \n",
              "5693  1631      Boss  Glock      Man  20200810T000000   I   0.570  0.445   \n",
              "5694   283  Jalapeno   Full   Killer  20200804T000000   M   0.485  0.395   \n",
              "5695   181       Big  Block     Head  20200512T000000   M   0.640  0.510   \n",
              "5696  1324  Jalapeno   Full     Head  20201215T000000   I   0.565  0.440   \n",
              "5697  1242      Lil'   Flow  Machine  20201206T000000   I   0.385  0.290   \n",
              "5698  2842      Boss   Full   Killer  20200101T000000   M   0.600  0.475   \n",
              "5699  2071      Baby  Glock  Machine  20200119T000000   F   0.565  0.440   \n",
              "\n",
              "      Height   Whole  Shucke  Viscera   Shell  Rings  \n",
              "5690   0.120  0.8170  0.2945   0.1530  0.1950   10.0  \n",
              "5691   0.180  1.1655  0.5020   0.3010  0.3110    9.0  \n",
              "5692   0.085  0.1785  0.0710   0.0405  0.0550    9.0  \n",
              "5693   0.145  0.7405  0.3060   0.1720  0.1825   12.0  \n",
              "5694   0.140  0.6295  0.2285   0.1270  0.2250   14.0  \n",
              "5695   0.175  1.3680  0.5150   0.2660  0.5700   21.0  \n",
              "5696   0.175  0.8735  0.4140   0.2100  0.2100   11.0  \n",
              "5697   0.090  0.2615  0.1110   0.0595  0.0745    9.0  \n",
              "5698   0.175  1.1100  0.5105   0.2560  0.2850    9.0  \n",
              "5699   0.135  0.8300  0.3930   0.1735  0.2380    9.0  "
            ]
          },
          "metadata": {},
          "execution_count": 158
        }
      ]
    },
    {
      "cell_type": "code",
      "metadata": {
        "id": "_ahNTahGdNhT",
        "colab": {
          "base_uri": "https://localhost:8080/"
        },
        "outputId": "d2c2d75a-4749-412d-b2a7-25c66a8ce881"
      },
      "source": [
        "# Q2.1 What is the diameter of a tenth abalone with second name Flow?\n",
        "# Q2.2 What is the weight of a shell for 99-th abalone with first name Lil'?\n",
        "print(df[df['FN']==\"Lil'\"].iloc[98]['Shell'])\n",
        "# Q2.3 How many rings twelfth abalone with first name MC' has?\n",
        "# Q2.4 How many rings the 666-th abalone has?\n",
        "print(df.iloc[665]['Rings'])\n",
        "# Q2.5 What is the gender of 1337-th abalone?\n"
      ],
      "execution_count": 159,
      "outputs": [
        {
          "output_type": "stream",
          "name": "stdout",
          "text": [
            "0.22\n",
            "18.0\n"
          ]
        }
      ]
    },
    {
      "cell_type": "code",
      "metadata": {
        "id": "rlx4DfDsdku4"
      },
      "source": [
        "# Increase maximal displayed columns\n",
        "pd.options.display.max_columns = 30"
      ],
      "execution_count": 160,
      "outputs": []
    },
    {
      "cell_type": "code",
      "metadata": {
        "id": "iFRAlFOYdm9A",
        "colab": {
          "base_uri": "https://localhost:8080/",
          "height": 357
        },
        "outputId": "d4ea4077-9ec4-4ae9-a740-de21b086d11a"
      },
      "source": [
        "# Observe top 10 observations again\n",
        "# Is there any new columns displayed?\n",
        "df.head(10)\n",
        "# no"
      ],
      "execution_count": 161,
      "outputs": [
        {
          "output_type": "execute_result",
          "data": {
            "text/html": [
              "<div>\n",
              "<style scoped>\n",
              "    .dataframe tbody tr th:only-of-type {\n",
              "        vertical-align: middle;\n",
              "    }\n",
              "\n",
              "    .dataframe tbody tr th {\n",
              "        vertical-align: top;\n",
              "    }\n",
              "\n",
              "    .dataframe thead th {\n",
              "        text-align: right;\n",
              "    }\n",
              "</style>\n",
              "<table border=\"1\" class=\"dataframe\">\n",
              "  <thead>\n",
              "    <tr style=\"text-align: right;\">\n",
              "      <th></th>\n",
              "      <th>id</th>\n",
              "      <th>FN</th>\n",
              "      <th>SN</th>\n",
              "      <th>LN</th>\n",
              "      <th>Captured</th>\n",
              "      <th>Sex</th>\n",
              "      <th>Length</th>\n",
              "      <th>Diam</th>\n",
              "      <th>Height</th>\n",
              "      <th>Whole</th>\n",
              "      <th>Shucke</th>\n",
              "      <th>Viscera</th>\n",
              "      <th>Shell</th>\n",
              "      <th>Rings</th>\n",
              "    </tr>\n",
              "  </thead>\n",
              "  <tbody>\n",
              "    <tr>\n",
              "      <th>0</th>\n",
              "      <td>835</td>\n",
              "      <td>Kid</td>\n",
              "      <td>College</td>\n",
              "      <td>Machine</td>\n",
              "      <td>20200621T000000</td>\n",
              "      <td>I</td>\n",
              "      <td>0.450</td>\n",
              "      <td>0.350</td>\n",
              "      <td>0.130</td>\n",
              "      <td>0.5470</td>\n",
              "      <td>0.2450</td>\n",
              "      <td>0.1405</td>\n",
              "      <td>0.1405</td>\n",
              "      <td>8.0</td>\n",
              "    </tr>\n",
              "    <tr>\n",
              "      <th>1</th>\n",
              "      <td>540</td>\n",
              "      <td>Jalapeno</td>\n",
              "      <td>Glam</td>\n",
              "      <td>Machine</td>\n",
              "      <td>20200308T000000</td>\n",
              "      <td>F</td>\n",
              "      <td>0.500</td>\n",
              "      <td>0.375</td>\n",
              "      <td>0.140</td>\n",
              "      <td>0.6040</td>\n",
              "      <td>0.2420</td>\n",
              "      <td>0.1415</td>\n",
              "      <td>0.1790</td>\n",
              "      <td>15.0</td>\n",
              "    </tr>\n",
              "    <tr>\n",
              "      <th>2</th>\n",
              "      <td>2295</td>\n",
              "      <td>Baby</td>\n",
              "      <td>Full</td>\n",
              "      <td>Killer</td>\n",
              "      <td>20200222T000000</td>\n",
              "      <td>F</td>\n",
              "      <td>0.520</td>\n",
              "      <td>0.415</td>\n",
              "      <td>0.145</td>\n",
              "      <td>0.8045</td>\n",
              "      <td>0.3325</td>\n",
              "      <td>0.1725</td>\n",
              "      <td>0.2850</td>\n",
              "      <td>10.0</td>\n",
              "    </tr>\n",
              "    <tr>\n",
              "      <th>3</th>\n",
              "      <td>858</td>\n",
              "      <td>Kid</td>\n",
              "      <td>Rock</td>\n",
              "      <td>Head</td>\n",
              "      <td>20200222T000000</td>\n",
              "      <td>F</td>\n",
              "      <td>0.595</td>\n",
              "      <td>0.480</td>\n",
              "      <td>0.150</td>\n",
              "      <td>1.1100</td>\n",
              "      <td>0.4980</td>\n",
              "      <td>0.2280</td>\n",
              "      <td>0.3300</td>\n",
              "      <td>10.0</td>\n",
              "    </tr>\n",
              "    <tr>\n",
              "      <th>4</th>\n",
              "      <td>2329</td>\n",
              "      <td>Boy</td>\n",
              "      <td>Block</td>\n",
              "      <td>Death</td>\n",
              "      <td>20201219T000000</td>\n",
              "      <td>I</td>\n",
              "      <td>0.480</td>\n",
              "      <td>0.390</td>\n",
              "      <td>0.145</td>\n",
              "      <td>0.5825</td>\n",
              "      <td>0.2315</td>\n",
              "      <td>0.1210</td>\n",
              "      <td>0.2550</td>\n",
              "      <td>15.0</td>\n",
              "    </tr>\n",
              "    <tr>\n",
              "      <th>5</th>\n",
              "      <td>2648</td>\n",
              "      <td>DJ</td>\n",
              "      <td>Block</td>\n",
              "      <td>Head</td>\n",
              "      <td>20201224T000000</td>\n",
              "      <td>M</td>\n",
              "      <td>0.500</td>\n",
              "      <td>0.380</td>\n",
              "      <td>0.120</td>\n",
              "      <td>0.5765</td>\n",
              "      <td>0.2730</td>\n",
              "      <td>0.1350</td>\n",
              "      <td>0.1450</td>\n",
              "      <td>9.0</td>\n",
              "    </tr>\n",
              "    <tr>\n",
              "      <th>6</th>\n",
              "      <td>3723</td>\n",
              "      <td>Big</td>\n",
              "      <td>Full</td>\n",
              "      <td>Death</td>\n",
              "      <td>20200110T000000</td>\n",
              "      <td>I</td>\n",
              "      <td>0.470</td>\n",
              "      <td>0.355</td>\n",
              "      <td>0.120</td>\n",
              "      <td>0.4915</td>\n",
              "      <td>0.1765</td>\n",
              "      <td>0.1125</td>\n",
              "      <td>0.1325</td>\n",
              "      <td>9.0</td>\n",
              "    </tr>\n",
              "    <tr>\n",
              "      <th>7</th>\n",
              "      <td>251</td>\n",
              "      <td>Dungeon</td>\n",
              "      <td>Glam</td>\n",
              "      <td>Death</td>\n",
              "      <td>20200824T000000</td>\n",
              "      <td>M</td>\n",
              "      <td>0.590</td>\n",
              "      <td>0.470</td>\n",
              "      <td>0.180</td>\n",
              "      <td>1.1235</td>\n",
              "      <td>0.4205</td>\n",
              "      <td>0.2805</td>\n",
              "      <td>0.3600</td>\n",
              "      <td>13.0</td>\n",
              "    </tr>\n",
              "    <tr>\n",
              "      <th>8</th>\n",
              "      <td>1148</td>\n",
              "      <td>MC</td>\n",
              "      <td>College</td>\n",
              "      <td>Machine</td>\n",
              "      <td>20200623T000000</td>\n",
              "      <td>M</td>\n",
              "      <td>0.580</td>\n",
              "      <td>0.450</td>\n",
              "      <td>0.145</td>\n",
              "      <td>1.0025</td>\n",
              "      <td>0.5470</td>\n",
              "      <td>0.1975</td>\n",
              "      <td>0.2295</td>\n",
              "      <td>8.0</td>\n",
              "    </tr>\n",
              "    <tr>\n",
              "      <th>9</th>\n",
              "      <td>1949</td>\n",
              "      <td>Monster</td>\n",
              "      <td>Full</td>\n",
              "      <td>Kitty</td>\n",
              "      <td>20200202T000000</td>\n",
              "      <td>M</td>\n",
              "      <td>0.640</td>\n",
              "      <td>0.530</td>\n",
              "      <td>0.165</td>\n",
              "      <td>1.1895</td>\n",
              "      <td>0.4765</td>\n",
              "      <td>0.3000</td>\n",
              "      <td>0.3500</td>\n",
              "      <td>11.0</td>\n",
              "    </tr>\n",
              "  </tbody>\n",
              "</table>\n",
              "</div>"
            ],
            "text/plain": [
              "     id        FN       SN       LN         Captured Sex  Length   Diam  \\\n",
              "0   835       Kid  College  Machine  20200621T000000   I   0.450  0.350   \n",
              "1   540  Jalapeno     Glam  Machine  20200308T000000   F   0.500  0.375   \n",
              "2  2295      Baby     Full   Killer  20200222T000000   F   0.520  0.415   \n",
              "3   858       Kid     Rock     Head  20200222T000000   F   0.595  0.480   \n",
              "4  2329       Boy    Block    Death  20201219T000000   I   0.480  0.390   \n",
              "5  2648        DJ    Block     Head  20201224T000000   M   0.500  0.380   \n",
              "6  3723       Big     Full    Death  20200110T000000   I   0.470  0.355   \n",
              "7   251   Dungeon     Glam    Death  20200824T000000   M   0.590  0.470   \n",
              "8  1148        MC  College  Machine  20200623T000000   M   0.580  0.450   \n",
              "9  1949   Monster     Full    Kitty  20200202T000000   M   0.640  0.530   \n",
              "\n",
              "   Height   Whole  Shucke  Viscera   Shell  Rings  \n",
              "0   0.130  0.5470  0.2450   0.1405  0.1405    8.0  \n",
              "1   0.140  0.6040  0.2420   0.1415  0.1790   15.0  \n",
              "2   0.145  0.8045  0.3325   0.1725  0.2850   10.0  \n",
              "3   0.150  1.1100  0.4980   0.2280  0.3300   10.0  \n",
              "4   0.145  0.5825  0.2315   0.1210  0.2550   15.0  \n",
              "5   0.120  0.5765  0.2730   0.1350  0.1450    9.0  \n",
              "6   0.120  0.4915  0.1765   0.1125  0.1325    9.0  \n",
              "7   0.180  1.1235  0.4205   0.2805  0.3600   13.0  \n",
              "8   0.145  1.0025  0.5470   0.1975  0.2295    8.0  \n",
              "9   0.165  1.1895  0.4765   0.3000  0.3500   11.0  "
            ]
          },
          "metadata": {},
          "execution_count": 161
        }
      ]
    },
    {
      "cell_type": "code",
      "metadata": {
        "id": "Zui3i6ZOdo2D",
        "colab": {
          "base_uri": "https://localhost:8080/"
        },
        "outputId": "821f7158-52fb-4fb4-cbef-9ca57f8a96f6"
      },
      "source": [
        "# Print all the columns/features names (int)\n",
        "df.columns"
      ],
      "execution_count": 162,
      "outputs": [
        {
          "output_type": "execute_result",
          "data": {
            "text/plain": [
              "Index(['id', 'FN', 'SN', 'LN', 'Captured', 'Sex', 'Length', 'Diam', 'Height',\n",
              "       'Whole', 'Shucke', 'Viscera', 'Shell', 'Rings'],\n",
              "      dtype='object')"
            ]
          },
          "metadata": {},
          "execution_count": 162
        }
      ]
    },
    {
      "cell_type": "code",
      "metadata": {
        "id": "QwPaHlDhuklP",
        "colab": {
          "base_uri": "https://localhost:8080/"
        },
        "outputId": "9c243650-f8ce-4779-ccd9-6a588a252c65"
      },
      "source": [
        "# Q3.1 How many columns end with a vowel?\n",
        "# Q3.2 How many columns start with a vowel?\n",
        "print(1)\n",
        "# Q3.3 Which columns are associated with the weight of the clam?\n",
        "print('Whole', 'Shucke', 'Viscera', 'Shell')\n",
        "# Q3.4 How many columns have `th` in their names?\n",
        "\n"
      ],
      "execution_count": 163,
      "outputs": [
        {
          "output_type": "stream",
          "name": "stdout",
          "text": [
            "1\n",
            "Whole Shucke Viscera Shell\n"
          ]
        }
      ]
    },
    {
      "cell_type": "code",
      "metadata": {
        "id": "Ka8e4hmZdqLp",
        "colab": {
          "base_uri": "https://localhost:8080/"
        },
        "outputId": "9c943daf-0a58-44df-d534-7b41d74f644f"
      },
      "source": [
        "# Print data size (int)\n",
        "\n",
        "# Q4.1 How many observations are in the data?\n",
        "print(len(df))\n",
        "# Q4.2 How many features are in the data?\n",
        "print(df.shape[1])"
      ],
      "execution_count": 164,
      "outputs": [
        {
          "output_type": "stream",
          "name": "stdout",
          "text": [
            "5700\n",
            "14\n"
          ]
        }
      ]
    },
    {
      "cell_type": "markdown",
      "metadata": {
        "id": "RWqFpMWPdy3E"
      },
      "source": [
        "# 2. Basic data exploration\n",
        "\n",
        "Lets do some basics:\n",
        "\n",
        "`.count()` number of not NaN's in every column.\n",
        "    \n",
        "Is there any missing values in the data?     \n",
        "Count number of unique values in every column .nunique().    \n",
        "What does this tells you about the features, which are most likely categorical and which are most likely numerical?    \n",
        "Use pandas `.describe()` to display basic statistic about the data.   \n",
        "Use pandas `.value_counts()` to count number of unique values in a specific column.   \n",
        "Use pandas `.min()`, `.max()`, `.mean()`, `.std()` to display specific statistics about the data.    \n",
        "Use pandas `.dtypes` field to display data types in columns. \n",
        "Hint You could use `.sort_index()` or `.sort_values()` to sort the result of `.value_counts()`\n"
      ]
    },
    {
      "cell_type": "code",
      "metadata": {
        "id": "pwlcBdvIwlfB",
        "colab": {
          "base_uri": "https://localhost:8080/"
        },
        "outputId": "29098481-f415-486b-d8e0-bb56ac246dec"
      },
      "source": [
        "# Display number of not NaN's in every column (int)\n",
        "print(df.count(), '\\n\\n')\n",
        "\n",
        "# Q5.1 How many NA values are in the `Whole` column?\n",
        "# Q5.2 How many NA values are in the `Rings` column?\n",
        "print(df['Rings'].isna().sum())\n",
        "# Q5.3 How many NA values are in the `Viscera` column?\n",
        "# Q5.4 How many NA values are in the `FN` column?\n",
        "print(df['FN'].isna().sum())\n",
        "# Q5.5 How many explicit NA values are in the `Shell` column?\n",
        "\n"
      ],
      "execution_count": 165,
      "outputs": [
        {
          "output_type": "stream",
          "name": "stdout",
          "text": [
            "id          5700\n",
            "FN          5700\n",
            "SN          5700\n",
            "LN          5700\n",
            "Captured    5700\n",
            "Sex         5700\n",
            "Length      5545\n",
            "Diam        5079\n",
            "Height      4931\n",
            "Whole       5687\n",
            "Shucke      4334\n",
            "Viscera     5158\n",
            "Shell       4938\n",
            "Rings       4960\n",
            "dtype: int64 \n",
            "\n",
            "\n",
            "740\n",
            "0\n"
          ]
        }
      ]
    },
    {
      "cell_type": "code",
      "metadata": {
        "id": "uCxMUIbnx-QD",
        "colab": {
          "base_uri": "https://localhost:8080/"
        },
        "outputId": "94706c40-9b1b-4be8-a847-95bb4d64cc9a"
      },
      "source": [
        "# Count number of unique values in every column (int)\n",
        "print(df.nunique(), '\\n\\n')\n",
        "\n",
        "# Q6.1 How many unique values are in the `FN` column?\n",
        "print(df['FN'].nunique())\n",
        "# Q6.2 How many unique values are in the `SN` column?\n",
        "# Q6.3 How many unique values are in the `Rings` column?\n",
        "# Q6.4 How many unique values are in the `Viscera` column?\n",
        "print(df['Viscera'].nunique())\n",
        "# Q6.5 How many unique values are in the `Shell` column?\n"
      ],
      "execution_count": 166,
      "outputs": [
        {
          "output_type": "stream",
          "name": "stdout",
          "text": [
            "id          5700\n",
            "FN            12\n",
            "SN             8\n",
            "LN             7\n",
            "Captured     288\n",
            "Sex            3\n",
            "Length      1502\n",
            "Diam        1013\n",
            "Height       805\n",
            "Whole       3939\n",
            "Shucke      1672\n",
            "Viscera     1861\n",
            "Shell       1687\n",
            "Rings         29\n",
            "dtype: int64 \n",
            "\n",
            "\n",
            "12\n",
            "1861\n"
          ]
        }
      ]
    },
    {
      "cell_type": "code",
      "metadata": {
        "id": "fPJMcqYQyD9y",
        "colab": {
          "base_uri": "https://localhost:8080/"
        },
        "outputId": "28e26888-d7c2-4109-9639-d1c6868dd656"
      },
      "source": [
        "# Count frequency of the values in different columns (list of ints in ascending order)\n",
        "# You could select a column using same syntax as for selecting a key from a dictionary: `data[colname]`\n",
        "print(df['Sex'].value_counts(), '\\n\\n')\n",
        "\n",
        "\n",
        "# Q7.1 For every unique `FN` value give its number of occurences.\n",
        "# Q7.2 For every unique `SN` value give its number of occurences.\n",
        "print(df['SN'].value_counts(), '\\n\\n')\n",
        "# Q7.3 For every unique `Rings` value give its number of occurences.\n",
        "print(df['Rings'].value_counts())\n",
        "# Q7.4 For every unique `Sex` value give its number of occurences.\n",
        "# Q7.5 For every unique `LN` value give its number of occurences.\n"
      ],
      "execution_count": 167,
      "outputs": [
        {
          "output_type": "stream",
          "name": "stdout",
          "text": [
            "M    2076\n",
            "I    1849\n",
            "F    1775\n",
            "Name: Sex, dtype: int64 \n",
            "\n",
            "\n",
            "Flow       777\n",
            "Rock       713\n",
            "Block      711\n",
            "College    709\n",
            "Breeze     709\n",
            "Full       707\n",
            "Glock      690\n",
            "Glam       684\n",
            "Name: SN, dtype: int64 \n",
            "\n",
            "\n",
            "9.0     775\n",
            "10.0    696\n",
            "8.0     661\n",
            "11.0    558\n",
            "7.0     475\n",
            "12.0    323\n",
            "6.0     316\n",
            "13.0    241\n",
            "5.0     170\n",
            "14.0    157\n",
            "15.0    121\n",
            "4.0      86\n",
            "16.0     83\n",
            "17.0     69\n",
            "18.0     49\n",
            "19.0     40\n",
            "3.0      38\n",
            "20.0     27\n",
            "21.0     18\n",
            "2.0      16\n",
            "22.0     11\n",
            "23.0     10\n",
            "1.0       7\n",
            "0.0       3\n",
            "25.0      3\n",
            "24.0      3\n",
            "27.0      2\n",
            "26.0      1\n",
            "29.0      1\n",
            "Name: Rings, dtype: int64\n"
          ]
        }
      ]
    },
    {
      "cell_type": "code",
      "metadata": {
        "id": "bo6KibQ3x4Jw",
        "colab": {
          "base_uri": "https://localhost:8080/",
          "height": 295
        },
        "outputId": "ef63ec4f-9d98-45da-f3a6-dfd5b766f753"
      },
      "source": [
        "# Display basic data statistics using .describe()\n",
        "df.describe()"
      ],
      "execution_count": 168,
      "outputs": [
        {
          "output_type": "execute_result",
          "data": {
            "text/html": [
              "<div>\n",
              "<style scoped>\n",
              "    .dataframe tbody tr th:only-of-type {\n",
              "        vertical-align: middle;\n",
              "    }\n",
              "\n",
              "    .dataframe tbody tr th {\n",
              "        vertical-align: top;\n",
              "    }\n",
              "\n",
              "    .dataframe thead th {\n",
              "        text-align: right;\n",
              "    }\n",
              "</style>\n",
              "<table border=\"1\" class=\"dataframe\">\n",
              "  <thead>\n",
              "    <tr style=\"text-align: right;\">\n",
              "      <th></th>\n",
              "      <th>id</th>\n",
              "      <th>Length</th>\n",
              "      <th>Diam</th>\n",
              "      <th>Height</th>\n",
              "      <th>Whole</th>\n",
              "      <th>Shucke</th>\n",
              "      <th>Viscera</th>\n",
              "      <th>Shell</th>\n",
              "      <th>Rings</th>\n",
              "    </tr>\n",
              "  </thead>\n",
              "  <tbody>\n",
              "    <tr>\n",
              "      <th>count</th>\n",
              "      <td>5700.000000</td>\n",
              "      <td>5545.000000</td>\n",
              "      <td>5079.000000</td>\n",
              "      <td>4931.000000</td>\n",
              "      <td>5687.000000</td>\n",
              "      <td>4334.000000</td>\n",
              "      <td>5158.000000</td>\n",
              "      <td>4938.000000</td>\n",
              "      <td>4960.000000</td>\n",
              "    </tr>\n",
              "    <tr>\n",
              "      <th>mean</th>\n",
              "      <td>2849.500000</td>\n",
              "      <td>0.547853</td>\n",
              "      <td>0.424571</td>\n",
              "      <td>0.154530</td>\n",
              "      <td>0.849702</td>\n",
              "      <td>0.361736</td>\n",
              "      <td>0.198908</td>\n",
              "      <td>0.253074</td>\n",
              "      <td>9.826613</td>\n",
              "    </tr>\n",
              "    <tr>\n",
              "      <th>std</th>\n",
              "      <td>1645.592598</td>\n",
              "      <td>0.130588</td>\n",
              "      <td>0.108177</td>\n",
              "      <td>0.059298</td>\n",
              "      <td>0.493289</td>\n",
              "      <td>0.222923</td>\n",
              "      <td>0.118113</td>\n",
              "      <td>0.145495</td>\n",
              "      <td>3.378726</td>\n",
              "    </tr>\n",
              "    <tr>\n",
              "      <th>min</th>\n",
              "      <td>0.000000</td>\n",
              "      <td>0.075000</td>\n",
              "      <td>0.055000</td>\n",
              "      <td>0.000000</td>\n",
              "      <td>0.002000</td>\n",
              "      <td>0.001000</td>\n",
              "      <td>0.000500</td>\n",
              "      <td>0.001500</td>\n",
              "      <td>0.000000</td>\n",
              "    </tr>\n",
              "    <tr>\n",
              "      <th>25%</th>\n",
              "      <td>1424.750000</td>\n",
              "      <td>0.465000</td>\n",
              "      <td>0.355000</td>\n",
              "      <td>0.120000</td>\n",
              "      <td>0.458250</td>\n",
              "      <td>0.188125</td>\n",
              "      <td>0.106154</td>\n",
              "      <td>0.140500</td>\n",
              "      <td>8.000000</td>\n",
              "    </tr>\n",
              "    <tr>\n",
              "      <th>50%</th>\n",
              "      <td>2849.500000</td>\n",
              "      <td>0.561707</td>\n",
              "      <td>0.435000</td>\n",
              "      <td>0.150000</td>\n",
              "      <td>0.816500</td>\n",
              "      <td>0.338750</td>\n",
              "      <td>0.188687</td>\n",
              "      <td>0.245000</td>\n",
              "      <td>9.000000</td>\n",
              "    </tr>\n",
              "    <tr>\n",
              "      <th>75%</th>\n",
              "      <td>4274.250000</td>\n",
              "      <td>0.635000</td>\n",
              "      <td>0.500000</td>\n",
              "      <td>0.176963</td>\n",
              "      <td>1.177500</td>\n",
              "      <td>0.504000</td>\n",
              "      <td>0.274500</td>\n",
              "      <td>0.345000</td>\n",
              "      <td>11.000000</td>\n",
              "    </tr>\n",
              "    <tr>\n",
              "      <th>max</th>\n",
              "      <td>5699.000000</td>\n",
              "      <td>0.968190</td>\n",
              "      <td>0.794032</td>\n",
              "      <td>1.130000</td>\n",
              "      <td>2.875274</td>\n",
              "      <td>1.488000</td>\n",
              "      <td>0.760000</td>\n",
              "      <td>1.044635</td>\n",
              "      <td>29.000000</td>\n",
              "    </tr>\n",
              "  </tbody>\n",
              "</table>\n",
              "</div>"
            ],
            "text/plain": [
              "                id       Length         Diam       Height        Whole  \\\n",
              "count  5700.000000  5545.000000  5079.000000  4931.000000  5687.000000   \n",
              "mean   2849.500000     0.547853     0.424571     0.154530     0.849702   \n",
              "std    1645.592598     0.130588     0.108177     0.059298     0.493289   \n",
              "min       0.000000     0.075000     0.055000     0.000000     0.002000   \n",
              "25%    1424.750000     0.465000     0.355000     0.120000     0.458250   \n",
              "50%    2849.500000     0.561707     0.435000     0.150000     0.816500   \n",
              "75%    4274.250000     0.635000     0.500000     0.176963     1.177500   \n",
              "max    5699.000000     0.968190     0.794032     1.130000     2.875274   \n",
              "\n",
              "            Shucke      Viscera        Shell        Rings  \n",
              "count  4334.000000  5158.000000  4938.000000  4960.000000  \n",
              "mean      0.361736     0.198908     0.253074     9.826613  \n",
              "std       0.222923     0.118113     0.145495     3.378726  \n",
              "min       0.001000     0.000500     0.001500     0.000000  \n",
              "25%       0.188125     0.106154     0.140500     8.000000  \n",
              "50%       0.338750     0.188687     0.245000     9.000000  \n",
              "75%       0.504000     0.274500     0.345000    11.000000  \n",
              "max       1.488000     0.760000     1.044635    29.000000  "
            ]
          },
          "metadata": {},
          "execution_count": 168
        }
      ]
    },
    {
      "cell_type": "code",
      "metadata": {
        "id": "9vIOZuv7yErp",
        "colab": {
          "base_uri": "https://localhost:8080/"
        },
        "outputId": "81191d2f-d89f-484f-efcb-70af6c7ab67d"
      },
      "source": [
        "# Display some column statistics (list of floats, rounded up to 3 digits, e.g. 1.234)\n",
        "\n",
        "# Q8.1 What are the max, min, mean and the std of the `Viscera` column?\n",
        "# Q8.2 What are the max, min, mean and the std of the `Rings` column?\n",
        "print(df['Rings'].describe().apply(lambda x: round(x, 3)), '\\n\\n')\n",
        "# Q8.3 What are the max, min, mean and the std of the `Length` column?\n",
        "# Q8.4 What are the max, min, mean and the std of the `Diam` column?\n",
        "print(df['Diam'].describe().apply(lambda x: round(x, 3)))\n",
        "# Q8.5 What are the max, min, mean and the std of the `Whole` column?\n"
      ],
      "execution_count": 169,
      "outputs": [
        {
          "output_type": "stream",
          "name": "stdout",
          "text": [
            "count    4960.000\n",
            "mean        9.827\n",
            "std         3.379\n",
            "min         0.000\n",
            "25%         8.000\n",
            "50%         9.000\n",
            "75%        11.000\n",
            "max        29.000\n",
            "Name: Rings, dtype: float64 \n",
            "\n",
            "\n",
            "count    5079.000\n",
            "mean        0.425\n",
            "std         0.108\n",
            "min         0.055\n",
            "25%         0.355\n",
            "50%         0.435\n",
            "75%         0.500\n",
            "max         0.794\n",
            "Name: Diam, dtype: float64\n"
          ]
        }
      ]
    },
    {
      "cell_type": "code",
      "metadata": {
        "id": "71Kx1GnoyG7v",
        "colab": {
          "base_uri": "https://localhost:8080/"
        },
        "outputId": "5d6a0d58-ce6a-42f0-b237-ca49d29943a6"
      },
      "source": [
        "# Display data types of all columns (int)\n",
        "print(df.dtypes, '\\n\\n')\n",
        "# Q9.1 How many columns have `object` data type?\n",
        "# Q9.2 How many columns have `int64` data type?\n",
        "# Q9.3 How many columns have `float64` data type?\n",
        "print(len(df.select_dtypes(include='float64').columns), '\\n\\n')\n",
        "# Display data types of all columns (list of str)\n",
        "# Q9.4 What are the columns with dtype == `float64`?\n",
        "print(df.select_dtypes(include='float64').columns)\n",
        "# Q9.5 What are the columns with dtype == `int64`?\n",
        "\n"
      ],
      "execution_count": 170,
      "outputs": [
        {
          "output_type": "stream",
          "name": "stdout",
          "text": [
            "id            int64\n",
            "FN           object\n",
            "SN           object\n",
            "LN           object\n",
            "Captured     object\n",
            "Sex          object\n",
            "Length      float64\n",
            "Diam        float64\n",
            "Height      float64\n",
            "Whole       float64\n",
            "Shucke      float64\n",
            "Viscera     float64\n",
            "Shell       float64\n",
            "Rings       float64\n",
            "dtype: object \n",
            "\n",
            "\n",
            "8 \n",
            "\n",
            "\n",
            "Index(['Length', 'Diam', 'Height', 'Whole', 'Shucke', 'Viscera', 'Shell',\n",
            "       'Rings'],\n",
            "      dtype='object')\n"
          ]
        }
      ]
    },
    {
      "cell_type": "code",
      "metadata": {
        "id": "RPVevhAMtqVQ"
      },
      "source": [
        "df = df.dropna()"
      ],
      "execution_count": 171,
      "outputs": []
    },
    {
      "cell_type": "markdown",
      "metadata": {
        "id": "5rrG2dQQe5yf"
      },
      "source": [
        "# 3. Data selection\n",
        "\n",
        "In pandas.DataFrame you could select\n",
        "\n",
        "  Row/s by position (integer number [0 .. number of rows - 1]) .iloc or by DataFrame.index .loc:   \n",
        "\n",
        "```\n",
        "  data.loc[0]  \n",
        "  data.loc[5:10]  \n",
        "  data.iloc[0]  \n",
        "  data.iloc[5:10]   \n",
        "```\n",
        "\n",
        "Though, this is probably the worst way to manipulate rows.   \n",
        "  Columns by name\n",
        "\n",
        "```\n",
        "  data[columname]\n",
        "```\n",
        "\n",
        "  Row/s and columns\n",
        "\n",
        "```\n",
        "  data.loc[10, columname]  \n",
        "  data.iloc[10, columname]  \n",
        "```\n",
        "\n",
        "Using boolean mask\n",
        "\n",
        "```\n",
        "  mask = data[columname] > value  \n",
        "  data[mask]  \n",
        "```\n",
        "\n",
        "You could combine multiple conditions using & or | (and, or)   \n",
        "\n",
        "```\n",
        "cond1 = data[columname1] > value1  \n",
        "cond2 = data[columname2] > value2  \n",
        "data[cond1 & cond2]  \n",
        "```\n",
        "\n",
        "Using queries .query():  \n",
        "\n",
        "```\n",
        "value = 5 \n",
        "data.query(\"columname > value\")  \n",
        "```\n",
        "\n",
        "You could combine multiple conditions using and, or  \n",
        "\n",
        "```\n",
        "data.query(\"(columname1 > value1) and (columname2 > value2)\")\n",
        "```\n",
        "\n",
        "and others. See https://pandas.pydata.org/pandas-docs/stable/user_guide/indexing.html for more examples.\n",
        "\n",
        "Remember to use different quotation marks \" or ' for columnname inside a query.\n"
      ]
    },
    {
      "cell_type": "code",
      "metadata": {
        "id": "WJnCqUx-0YRx",
        "colab": {
          "base_uri": "https://localhost:8080/"
        },
        "outputId": "d08b3cdb-28cc-4ca7-f824-41ddad62da4e"
      },
      "source": [
        "# Select rows by position (int) \n",
        "\n",
        "# Q10.1 What is the first name of a clam on row 777?\n",
        "print(df['FN'].iloc[776])\n",
        "# Q10.2 What is the last name of a clam on row 999?\n",
        "# Q10.3 How long is a clam from row 1337?\n",
        "print(df['Length'].iloc[1336])\n",
        "# Q10.4 What is the gender of a clam from row 314?\n",
        "# Q10.5 When was the clam with row of 2718 captured?\n"
      ],
      "execution_count": 172,
      "outputs": [
        {
          "output_type": "stream",
          "name": "stdout",
          "text": [
            "DJ\n",
            "0.44\n"
          ]
        }
      ]
    },
    {
      "cell_type": "code",
      "metadata": {
        "id": "Nv5jRoeU0aQG",
        "colab": {
          "base_uri": "https://localhost:8080/"
        },
        "outputId": "8a717749-65bc-4c61-a480-5831939a748b"
      },
      "source": [
        "# Select rows by index (int)\n",
        "\n",
        "# Q11.1 What is the gender of a clam with index 1102?\n",
        "print(df['Sex'].loc[1102])\n",
        "# Q11.2 How long is a clam with index 5695?\n",
        "# Q11.3 How heavy is a clam with index 1045 when still alive?\n",
        "# Q11.4 When was the clam with index 252 captured?\n",
        "# Q11.5 What is the middle name of a clam with index 38?\n",
        "print(df['SN'].loc[38])"
      ],
      "execution_count": 173,
      "outputs": [
        {
          "output_type": "stream",
          "name": "stdout",
          "text": [
            "M\n",
            "College\n"
          ]
        }
      ]
    },
    {
      "cell_type": "code",
      "metadata": {
        "id": "cZneqD6P0e5C",
        "colab": {
          "base_uri": "https://localhost:8080/"
        },
        "outputId": "e177abb6-bfb8-4ee0-e77f-d5abb32b89e1"
      },
      "source": [
        "# Using mask or .query syntax select rows/columns (int)\n",
        "\n",
        "# Q12.1 How many clams have less than 5 rings?\n",
        "# Q12.2 When were clams named \"Boy Rock Killer\" captured?\n",
        "# Q12.3 How many clams have length more than 0.1?\n",
        "print(df[df['Length']>0.1].shape[0])\n",
        "# Q12.4 How many clams are heavier (in shell) than 0.3?\n",
        "print(df[df['Shell']>0.3].shape[0])\n",
        "# Q12.5 How many clams were captured at 24 of July?\n"
      ],
      "execution_count": 174,
      "outputs": [
        {
          "output_type": "stream",
          "name": "stdout",
          "text": [
            "4179\n",
            "1308\n"
          ]
        }
      ]
    },
    {
      "cell_type": "code",
      "metadata": {
        "id": "xm4Ve-s70h73",
        "colab": {
          "base_uri": "https://localhost:8080/"
        },
        "outputId": "018e633e-7b5b-444e-b5e7-ddd43e4c7999"
      },
      "source": [
        "# Using mask or .query syntax select rows/columns (int)\n",
        "\n",
        "# Q13.1 How many clams were captured in the fall? Including both start and end day.\n",
        "print(df[df['Captured'].str[4:6].isin(['09','10','11'])].shape[0])\n",
        "# Q13.2 How many clams that were captured in the fall, have first name \"Lil'\"?\n",
        "print(df[(df['Captured'].str[4:6].isin(['09','10','11']))&(df['FN']==\"Lil'\")].shape[0])\n",
        "# Q13.3 How many clams that are wider than 0.4, have first name \"Monster\"?\n",
        "# Q13.4 What was the second name of a clam captured at March, 8, that that was longer than 0.65 and wider than 0.57?\n",
        "# Q13.5 How many rings does an infant clam that was captured in June and has shucked weight between 0.54 and 0.55 have?\n"
      ],
      "execution_count": 175,
      "outputs": [
        {
          "output_type": "stream",
          "name": "stdout",
          "text": [
            "1009\n",
            "79\n"
          ]
        }
      ]
    },
    {
      "cell_type": "code",
      "metadata": {
        "id": "TTVitIYf0ib3",
        "colab": {
          "base_uri": "https://localhost:8080/"
        },
        "outputId": "f6c7a699-ca5c-44d8-a647-94aa9539e119"
      },
      "source": [
        "# Using mask or .query syntax select rows/columns and compute simple statistics (float)\n",
        "\n",
        "# Q14.1 What was the average whole weight of clams named \"Kitty\"?\n",
        "# Q14.2 What was the whole weight of the heaviest Lil' clam?\n",
        "print(df[df['FN']==\"Lil'\"]['Whole'].max())\n",
        "# Q14.3 What was the weight of the lightest in terms of whole weight clam captured in June?\n",
        "# Q14.4 What is the median length of clams captured in April?\n",
        "# Q14.5 What is the minimum diameter of clams named \"Master\"?\n",
        "print(df[df['LN']=='Master']['Diam'].min())"
      ],
      "execution_count": 176,
      "outputs": [
        {
          "output_type": "stream",
          "name": "stdout",
          "text": [
            "2.4925\n",
            "0.1\n"
          ]
        }
      ]
    },
    {
      "cell_type": "markdown",
      "metadata": {
        "id": "wBLabnN2fAPc"
      },
      "source": [
        "# 4. Creating new columns\n",
        "\n",
        "Creating new column of pandas.DataFrame is as easy as:\n",
        "```\n",
        "data['new_awesome_column'] = [] \n",
        "```\n",
        "that's it. But such a column is relatively useless. Typically, you would compute something new based on existing data and save it in a new column. For example one might want to compute total area of the house as a sum of all sqft_ columns, or create a boolean column of whether the house has grade > 2 or anything else:\n",
        "```\n",
        "data['total_area'] = data[col1] + data[col2] + ...\n",
        "data['high_value'] = data[col] > 5\n",
        "```\n",
        "Pandas also provides another powerfull tool: .apply, .map(), .applymap() methods (they are kinda the same, but not quite). https://stackoverflow.com/questions/19798153/difference-between-map-applymap-and-apply-methods-in-pandas . They allow you to apply some function to every value in the column/s (row-wise) or row (column-wise) or cell (element-wise). For example, same computations of total_area and high_value using .apply():\n",
        "```\n",
        "data['total_area'] = data[[col1, col2, col3]].apply(sum, axis=1)\n",
        "```\n",
        "you are not restricted to existent functions, .apply() accepts any function (including lambda functions):\n",
        "```\n",
        "data['total_area'] = data[[col1, col2, col3]].apply(lambda x: x[0]+x[1]+x[2], axis=1)\n",
        "```\n",
        "or ordinary python function (if this it should have complex behaviour):\n",
        "```\n",
        "def _sum(x):\n",
        "    total = 0\n",
        "    for elem in x:\n",
        "        total += elem\n",
        "    return total\n",
        "\n",
        "data['total_area'] = data[[col1, col2, col3]].apply(_sum, axis=1) \n",
        "```\n",
        "Many pandas methods has axis parameter axis=0 refers to rows, axis=1 refers to columns.\n",
        "\n",
        "Warning. You should never use for loops to sum numerical elements from the container."
      ]
    },
    {
      "cell_type": "code",
      "metadata": {
        "id": "nC3VPe6sK_Pp"
      },
      "source": [
        "# create full_name column with concatenation of all clam names\n",
        "df['full_name'] = df['FN'] + '_' + df['SN'] + '_' + df['LN']"
      ],
      "execution_count": 177,
      "outputs": []
    },
    {
      "cell_type": "code",
      "metadata": {
        "colab": {
          "base_uri": "https://localhost:8080/",
          "height": 203
        },
        "id": "eZc4NhzJHQx-",
        "outputId": "33a1654f-6728-41b2-e403-daab4bc1fd6b"
      },
      "source": [
        "df.head()"
      ],
      "execution_count": 178,
      "outputs": [
        {
          "output_type": "execute_result",
          "data": {
            "text/html": [
              "<div>\n",
              "<style scoped>\n",
              "    .dataframe tbody tr th:only-of-type {\n",
              "        vertical-align: middle;\n",
              "    }\n",
              "\n",
              "    .dataframe tbody tr th {\n",
              "        vertical-align: top;\n",
              "    }\n",
              "\n",
              "    .dataframe thead th {\n",
              "        text-align: right;\n",
              "    }\n",
              "</style>\n",
              "<table border=\"1\" class=\"dataframe\">\n",
              "  <thead>\n",
              "    <tr style=\"text-align: right;\">\n",
              "      <th></th>\n",
              "      <th>id</th>\n",
              "      <th>FN</th>\n",
              "      <th>SN</th>\n",
              "      <th>LN</th>\n",
              "      <th>Captured</th>\n",
              "      <th>Sex</th>\n",
              "      <th>Length</th>\n",
              "      <th>Diam</th>\n",
              "      <th>Height</th>\n",
              "      <th>Whole</th>\n",
              "      <th>Shucke</th>\n",
              "      <th>Viscera</th>\n",
              "      <th>Shell</th>\n",
              "      <th>Rings</th>\n",
              "      <th>full_name</th>\n",
              "    </tr>\n",
              "  </thead>\n",
              "  <tbody>\n",
              "    <tr>\n",
              "      <th>0</th>\n",
              "      <td>835</td>\n",
              "      <td>Kid</td>\n",
              "      <td>College</td>\n",
              "      <td>Machine</td>\n",
              "      <td>20200621T000000</td>\n",
              "      <td>I</td>\n",
              "      <td>0.450</td>\n",
              "      <td>0.350</td>\n",
              "      <td>0.130</td>\n",
              "      <td>0.5470</td>\n",
              "      <td>0.2450</td>\n",
              "      <td>0.1405</td>\n",
              "      <td>0.1405</td>\n",
              "      <td>8.0</td>\n",
              "      <td>Kid_College_Machine</td>\n",
              "    </tr>\n",
              "    <tr>\n",
              "      <th>1</th>\n",
              "      <td>540</td>\n",
              "      <td>Jalapeno</td>\n",
              "      <td>Glam</td>\n",
              "      <td>Machine</td>\n",
              "      <td>20200308T000000</td>\n",
              "      <td>F</td>\n",
              "      <td>0.500</td>\n",
              "      <td>0.375</td>\n",
              "      <td>0.140</td>\n",
              "      <td>0.6040</td>\n",
              "      <td>0.2420</td>\n",
              "      <td>0.1415</td>\n",
              "      <td>0.1790</td>\n",
              "      <td>15.0</td>\n",
              "      <td>Jalapeno_Glam_Machine</td>\n",
              "    </tr>\n",
              "    <tr>\n",
              "      <th>2</th>\n",
              "      <td>2295</td>\n",
              "      <td>Baby</td>\n",
              "      <td>Full</td>\n",
              "      <td>Killer</td>\n",
              "      <td>20200222T000000</td>\n",
              "      <td>F</td>\n",
              "      <td>0.520</td>\n",
              "      <td>0.415</td>\n",
              "      <td>0.145</td>\n",
              "      <td>0.8045</td>\n",
              "      <td>0.3325</td>\n",
              "      <td>0.1725</td>\n",
              "      <td>0.2850</td>\n",
              "      <td>10.0</td>\n",
              "      <td>Baby_Full_Killer</td>\n",
              "    </tr>\n",
              "    <tr>\n",
              "      <th>3</th>\n",
              "      <td>858</td>\n",
              "      <td>Kid</td>\n",
              "      <td>Rock</td>\n",
              "      <td>Head</td>\n",
              "      <td>20200222T000000</td>\n",
              "      <td>F</td>\n",
              "      <td>0.595</td>\n",
              "      <td>0.480</td>\n",
              "      <td>0.150</td>\n",
              "      <td>1.1100</td>\n",
              "      <td>0.4980</td>\n",
              "      <td>0.2280</td>\n",
              "      <td>0.3300</td>\n",
              "      <td>10.0</td>\n",
              "      <td>Kid_Rock_Head</td>\n",
              "    </tr>\n",
              "    <tr>\n",
              "      <th>4</th>\n",
              "      <td>2329</td>\n",
              "      <td>Boy</td>\n",
              "      <td>Block</td>\n",
              "      <td>Death</td>\n",
              "      <td>20201219T000000</td>\n",
              "      <td>I</td>\n",
              "      <td>0.480</td>\n",
              "      <td>0.390</td>\n",
              "      <td>0.145</td>\n",
              "      <td>0.5825</td>\n",
              "      <td>0.2315</td>\n",
              "      <td>0.1210</td>\n",
              "      <td>0.2550</td>\n",
              "      <td>15.0</td>\n",
              "      <td>Boy_Block_Death</td>\n",
              "    </tr>\n",
              "  </tbody>\n",
              "</table>\n",
              "</div>"
            ],
            "text/plain": [
              "     id        FN       SN       LN         Captured Sex  Length   Diam  \\\n",
              "0   835       Kid  College  Machine  20200621T000000   I   0.450  0.350   \n",
              "1   540  Jalapeno     Glam  Machine  20200308T000000   F   0.500  0.375   \n",
              "2  2295      Baby     Full   Killer  20200222T000000   F   0.520  0.415   \n",
              "3   858       Kid     Rock     Head  20200222T000000   F   0.595  0.480   \n",
              "4  2329       Boy    Block    Death  20201219T000000   I   0.480  0.390   \n",
              "\n",
              "   Height   Whole  Shucke  Viscera   Shell  Rings              full_name  \n",
              "0   0.130  0.5470  0.2450   0.1405  0.1405    8.0    Kid_College_Machine  \n",
              "1   0.140  0.6040  0.2420   0.1415  0.1790   15.0  Jalapeno_Glam_Machine  \n",
              "2   0.145  0.8045  0.3325   0.1725  0.2850   10.0       Baby_Full_Killer  \n",
              "3   0.150  1.1100  0.4980   0.2280  0.3300   10.0          Kid_Rock_Head  \n",
              "4   0.145  0.5825  0.2315   0.1210  0.2550   15.0        Boy_Block_Death  "
            ]
          },
          "metadata": {},
          "execution_count": 178
        }
      ]
    },
    {
      "cell_type": "code",
      "metadata": {
        "id": "nxbj9Po2Le18"
      },
      "source": [
        "# Create new columns using the old ones (new column in your DataFrame)\n",
        "\n",
        "# Q15.1 Create a `age_in_years` column (age is the number of rings +1.5) using any method above\n",
        "df['age_in_years'] = df['Rings'] + 1.5\n",
        "# Q15.2 Create a new column `area` using diameter, length and considering that a clam is a perfect rectangle\n",
        "df['area'] = df['Length'] * df['Diam']\n",
        "# Q15.3 Create a new column `density` by dividing volume (area multiplied by a fixed number of 0.05) by whole weight\n",
        "df['density'] = (df['area']*0.05) / df['Whole']\n",
        "# Q15.4 Create a new column `age_cat` by splitting a `age` into 5 ([1..5]) distinct intervals: 0 < x <=20%,\n",
        "# 20% < x <= 40%, ... 80% < x <= 100% percentiles. You could use `.quantile()` to compute percentiles.\n",
        "df['age_cat'] = pd.qcut(df['age_in_years'],\n",
        "                             q = 5, labels = False)\n",
        "df['age_cat'] += 1\n",
        "# Q15.5 Create a new bool column `high_class` it is True if clam has the proportion of shell in whole clam more or equal to 1\n",
        "df['high_class'] = df['Shell'] >= df['Whole']"
      ],
      "execution_count": 179,
      "outputs": []
    },
    {
      "cell_type": "code",
      "metadata": {
        "id": "Fzig1HmlL4rq",
        "colab": {
          "base_uri": "https://localhost:8080/"
        },
        "outputId": "8400a64f-680b-45a2-c8b8-f46259849aa1"
      },
      "source": [
        "# Using mask or .query syntax select rows/columns (float)\n",
        "\n",
        "# Q16.1 What is the average age of the clam of the high_class(=True)?\n",
        "print(df[df['high_class']==True]['age_in_years'].mean())\n",
        "# Q16.2 What is the average area of the clam from highest age category?\n",
        "# Q16.3 What is the maximal length amongst clams with the lowest age category?\n",
        "print(df[df['age_cat']==1]['Length'].max())\n",
        "# Q16.4 What is the most frequent gender amongst clams with the lowest age category?\n",
        "# Q16.5 What is the minimal number of rings in clams with high_class=True?\n"
      ],
      "execution_count": 180,
      "outputs": [
        {
          "output_type": "stream",
          "name": "stdout",
          "text": [
            "7.5\n",
            "0.7355653980090243\n"
          ]
        }
      ]
    },
    {
      "cell_type": "markdown",
      "metadata": {
        "id": "ezvSnhPRfFXM"
      },
      "source": [
        "# 5. Basic date processing\n",
        "\n",
        "You figure out that column date is to harsh for you, so you decided to convert it to a more plausible format:\n",
        "\n",
        "- Use pandas method to_datetime() to convert the date to a good format.\n",
        "- Extract year, month, day and weekday from your new date column. Save them to separete columns.\n",
        "- How many columns has your data now?\n",
        "- Drop column date, remember to set inplace parameter to True.\n",
        "\n",
        "Hint: for datetime formatted date you could extract the year as follow:\n",
        "```\n",
        "data.date.dt.year\n",
        "```\n",
        "Very often date could be a ridiculously rich feature, sometimes it is holidays that matters, sometimes weekends, sometimes some special days like black friday.\n",
        "\n",
        "Learn how to work with date in Python!\n"
      ]
    },
    {
      "cell_type": "code",
      "metadata": {
        "id": "ZghL5CmKTBZc"
      },
      "source": [
        "# Create new columns based on `Captured` column\n",
        "\n",
        "# Q17.1 Convert date to datetime format\n",
        "df['Captured'] = pd.to_datetime(df['Captured'])\n",
        "# Q17.2 Extract and store `year`\n",
        "df['year'] = df['Captured'].dt.year\n",
        "# Q17.3 Extract and store `month`\n",
        "df['month'] = df['Captured'].dt.month\n",
        "# Q17.4 Extract and store `day`\n",
        "df['day'] = df['Captured'].dt.day\n",
        "# Q17.5 Extract and store `weekday`\n",
        "df['weekday'] = df['Captured'].dt.weekday\n",
        "# Q17.6 Create a new column `age10` - the age of the clam in full decades (e.g. 9 year old clam - 0, 21 year old clam - 2)\n",
        "df['age10'] = df['age_in_years'] // 10\n",
        "\n",
        "from datetime import datetime"
      ],
      "execution_count": 181,
      "outputs": []
    },
    {
      "cell_type": "code",
      "metadata": {
        "id": "QcgZcfuITEZ4"
      },
      "source": [
        "# Drop column `Captured`\n",
        "\n",
        "del df[\"Captured\"]"
      ],
      "execution_count": 182,
      "outputs": []
    },
    {
      "cell_type": "code",
      "metadata": {
        "id": "UU_wYcyETK9T",
        "colab": {
          "base_uri": "https://localhost:8080/"
        },
        "outputId": "d7b66237-2364-477f-85a9-54bb8faf7700"
      },
      "source": [
        "# Find some date related information from the data (int)\n",
        "\n",
        "# Q18.1 What is the most popular capturing weekday?\n",
        "# Q18.2 What is the most popular capturing month?\n",
        "# Q18.3 What is the least popular capturing weekday?\n",
        "# Q18.4 What is the median age of the clam? (float)\n",
        "print(df['age_in_years'].median())\n",
        "# Q18.5 How many clams were captured on the Day of Russia (June, 12)?\n",
        "print(df[(df['month']==6)&(df['day']==12)].shape[0])"
      ],
      "execution_count": 183,
      "outputs": [
        {
          "output_type": "stream",
          "name": "stdout",
          "text": [
            "10.5\n",
            "8\n"
          ]
        }
      ]
    },
    {
      "cell_type": "markdown",
      "metadata": {
        "id": "4LrPCPd0fRYz"
      },
      "source": [
        "# 6. Groupby\n",
        "\n",
        "from the documentation https://pandas.pydata.org/pandas-docs/stable/user_guide/groupby.html\n",
        "\n",
        "By “group by” we are referring to a process involving one or more of the following steps:\n",
        "\n",
        "- Splitting the data into groups based on some criteria.\n",
        "- Applying a function to each group independently.\n",
        "- Combining the results into a data structure.\n",
        "\n",
        "`.groupby()` is one of the most powerfull tool for feature engineering. Very often it is used to group object with the same categorical characteristics and compute some statistics (e.g. mean, max, etc.) of a their numerical characteric.\n",
        "\n",
        "Instead of computing average area of houses with high grade you could compute average areas of the houses for every grade in a single command:\n",
        "```\n",
        "data.groupby('grade')['sqm_tot_area'].mean()\n",
        "```\n",
        "You could also make multi-column groups:\n",
        "```\n",
        "data.groupby(['weekday','grade'])['price'].min()\n",
        "```\n",
        "next, you could compute multiple aggregation functions:\n",
        "```\n",
        "data.groupby(['weekday','grade'])['price'].agg([min, max])\n",
        "```\n",
        "instead of using built-in functions you could compute custom functions using apply:\n",
        "```\n",
        "import numpy as np\n",
        "data.groupby(['condition','grade'])['bathrooms'].apply(lambda x: np.quantile(x, .5))\n",
        "```\n",
        "and the coolest thing now is that you can map the results of groupby back on your DataFrame!\n",
        "```\n",
        "gp = data.groupby(['condition'])['bathrooms'].median()\n",
        "data['gp_feature'] = data['condition'].map(gp)\n",
        "```\n",
        "Now, if some house has condition == 2, its gp_feature will be equal to the median number of bathrooms amongst all houses with condition == 2.\n",
        "\n",
        "Read more examples in the documentation https://pandas.pydata.org/pandas-docs/stable/user_guide/groupby.html\n"
      ]
    },
    {
      "cell_type": "code",
      "metadata": {
        "id": "nRmmkfIVXp5K"
      },
      "source": [
        "# Create some groupby features\n",
        "\n",
        "# Q19.1 `whole_by_year` groupby `year` and compute median whole weight.\n",
        "# Q19.2 `shell_by_weekday` groupby `weekday` and compute median shell weight.\n",
        "df['shell_by_weekday'] = df['weekday'].map(df.groupby('weekday')['Shell'].median())\n",
        "# Q19.3 `area_by_age` groupby `age_cat` and compute average `area`.\n",
        "df['area_by_age'] = df['age_in_years'].map(df.groupby('age_in_years')['area'].mean())\n",
        "# Q19.4 `density_by_age` groupby `age_cat` and compute average density of a clam.\n"
      ],
      "execution_count": 184,
      "outputs": []
    },
    {
      "cell_type": "code",
      "metadata": {
        "id": "ZIKPaeH_fIfj"
      },
      "source": [
        "# Create some other groupby features\n",
        "# for this task check out this answer:\n",
        "# https://stackoverflow.com/questions/47913343/how-to-groupby-and-map-by-two-columns-pandas-dataframe\n",
        "\n",
        "# Q20.1 `rings_fn` groupby `n_rings` and count average number of occurences of every unique first name\n",
        "df['rings_fn'] = df.merge(df.groupby('Rings')['FN'].value_counts().unstack(level=-1).mean(1).reset_index(), on='Rings')[0].values\n",
        "\n",
        "# Q20.2 `n_month` groupby `month` and count number of captured in each month\n",
        "df['n_month'] = df.merge(df.groupby('month')['id'].count().reset_index().rename(columns = {'id': 'count'}), on='month')['count'].values"
      ],
      "execution_count": 185,
      "outputs": []
    },
    {
      "cell_type": "markdown",
      "metadata": {
        "id": "_Y3IX6U1fOVI"
      },
      "source": [
        "# 7. Building a regression model\n",
        "\n",
        "- You do not need to normalize data for tree models, and for linear/knn models this step is essential.\n",
        "- Remember, that not all of the features in the table are numeric, some of them might be viewed as categorical.\n",
        "-You may create or drop any features you want, except for the features which use age or number of rings (e.g. average number of rings from a clam of high class).\n",
        "\n"
      ]
    },
    {
      "cell_type": "code",
      "metadata": {
        "colab": {
          "base_uri": "https://localhost:8080/",
          "height": 223
        },
        "id": "bf4mvfEEMcXf",
        "outputId": "172b195c-f762-4221-ddba-0b2f31abc56c"
      },
      "source": [
        "df.head()"
      ],
      "execution_count": 215,
      "outputs": [
        {
          "output_type": "execute_result",
          "data": {
            "text/html": [
              "<div>\n",
              "<style scoped>\n",
              "    .dataframe tbody tr th:only-of-type {\n",
              "        vertical-align: middle;\n",
              "    }\n",
              "\n",
              "    .dataframe tbody tr th {\n",
              "        vertical-align: top;\n",
              "    }\n",
              "\n",
              "    .dataframe thead th {\n",
              "        text-align: right;\n",
              "    }\n",
              "</style>\n",
              "<table border=\"1\" class=\"dataframe\">\n",
              "  <thead>\n",
              "    <tr style=\"text-align: right;\">\n",
              "      <th></th>\n",
              "      <th>id</th>\n",
              "      <th>FN</th>\n",
              "      <th>SN</th>\n",
              "      <th>LN</th>\n",
              "      <th>Sex</th>\n",
              "      <th>Length</th>\n",
              "      <th>Diam</th>\n",
              "      <th>Height</th>\n",
              "      <th>Whole</th>\n",
              "      <th>Shucke</th>\n",
              "      <th>Viscera</th>\n",
              "      <th>Shell</th>\n",
              "      <th>Rings</th>\n",
              "      <th>full_name</th>\n",
              "      <th>age_in_years</th>\n",
              "      <th>area</th>\n",
              "      <th>density</th>\n",
              "      <th>age_cat</th>\n",
              "      <th>high_class</th>\n",
              "      <th>year</th>\n",
              "      <th>month</th>\n",
              "      <th>day</th>\n",
              "      <th>weekday</th>\n",
              "      <th>age10</th>\n",
              "      <th>shell_by_weekday</th>\n",
              "      <th>area_by_age</th>\n",
              "      <th>rings_fn</th>\n",
              "      <th>n_month</th>\n",
              "    </tr>\n",
              "  </thead>\n",
              "  <tbody>\n",
              "    <tr>\n",
              "      <th>0</th>\n",
              "      <td>835</td>\n",
              "      <td>Kid</td>\n",
              "      <td>College</td>\n",
              "      <td>Machine</td>\n",
              "      <td>I</td>\n",
              "      <td>0.450</td>\n",
              "      <td>0.350</td>\n",
              "      <td>0.130</td>\n",
              "      <td>0.5470</td>\n",
              "      <td>0.2450</td>\n",
              "      <td>0.1405</td>\n",
              "      <td>0.1405</td>\n",
              "      <td>8.0</td>\n",
              "      <td>Kid_College_Machine</td>\n",
              "      <td>9.5</td>\n",
              "      <td>0.1575</td>\n",
              "      <td>0.014397</td>\n",
              "      <td>2</td>\n",
              "      <td>False</td>\n",
              "      <td>2020</td>\n",
              "      <td>6</td>\n",
              "      <td>21</td>\n",
              "      <td>6</td>\n",
              "      <td>0.0</td>\n",
              "      <td>0.2215</td>\n",
              "      <td>0.196913</td>\n",
              "      <td>47.333333</td>\n",
              "      <td>343</td>\n",
              "    </tr>\n",
              "    <tr>\n",
              "      <th>1</th>\n",
              "      <td>540</td>\n",
              "      <td>Jalapeno</td>\n",
              "      <td>Glam</td>\n",
              "      <td>Machine</td>\n",
              "      <td>F</td>\n",
              "      <td>0.500</td>\n",
              "      <td>0.375</td>\n",
              "      <td>0.140</td>\n",
              "      <td>0.6040</td>\n",
              "      <td>0.2420</td>\n",
              "      <td>0.1415</td>\n",
              "      <td>0.1790</td>\n",
              "      <td>15.0</td>\n",
              "      <td>Jalapeno_Glam_Machine</td>\n",
              "      <td>16.5</td>\n",
              "      <td>0.1875</td>\n",
              "      <td>0.015522</td>\n",
              "      <td>5</td>\n",
              "      <td>False</td>\n",
              "      <td>2020</td>\n",
              "      <td>3</td>\n",
              "      <td>8</td>\n",
              "      <td>6</td>\n",
              "      <td>1.0</td>\n",
              "      <td>0.2215</td>\n",
              "      <td>0.266581</td>\n",
              "      <td>47.333333</td>\n",
              "      <td>343</td>\n",
              "    </tr>\n",
              "    <tr>\n",
              "      <th>2</th>\n",
              "      <td>2295</td>\n",
              "      <td>Baby</td>\n",
              "      <td>Full</td>\n",
              "      <td>Killer</td>\n",
              "      <td>F</td>\n",
              "      <td>0.520</td>\n",
              "      <td>0.415</td>\n",
              "      <td>0.145</td>\n",
              "      <td>0.8045</td>\n",
              "      <td>0.3325</td>\n",
              "      <td>0.1725</td>\n",
              "      <td>0.2850</td>\n",
              "      <td>10.0</td>\n",
              "      <td>Baby_Full_Killer</td>\n",
              "      <td>11.5</td>\n",
              "      <td>0.2158</td>\n",
              "      <td>0.013412</td>\n",
              "      <td>3</td>\n",
              "      <td>False</td>\n",
              "      <td>2020</td>\n",
              "      <td>2</td>\n",
              "      <td>22</td>\n",
              "      <td>5</td>\n",
              "      <td>1.0</td>\n",
              "      <td>0.2180</td>\n",
              "      <td>0.263954</td>\n",
              "      <td>47.333333</td>\n",
              "      <td>343</td>\n",
              "    </tr>\n",
              "    <tr>\n",
              "      <th>3</th>\n",
              "      <td>858</td>\n",
              "      <td>Kid</td>\n",
              "      <td>Rock</td>\n",
              "      <td>Head</td>\n",
              "      <td>F</td>\n",
              "      <td>0.595</td>\n",
              "      <td>0.480</td>\n",
              "      <td>0.150</td>\n",
              "      <td>1.1100</td>\n",
              "      <td>0.4980</td>\n",
              "      <td>0.2280</td>\n",
              "      <td>0.3300</td>\n",
              "      <td>10.0</td>\n",
              "      <td>Kid_Rock_Head</td>\n",
              "      <td>11.5</td>\n",
              "      <td>0.2856</td>\n",
              "      <td>0.012865</td>\n",
              "      <td>3</td>\n",
              "      <td>False</td>\n",
              "      <td>2020</td>\n",
              "      <td>2</td>\n",
              "      <td>22</td>\n",
              "      <td>5</td>\n",
              "      <td>1.0</td>\n",
              "      <td>0.2180</td>\n",
              "      <td>0.263954</td>\n",
              "      <td>47.333333</td>\n",
              "      <td>343</td>\n",
              "    </tr>\n",
              "    <tr>\n",
              "      <th>4</th>\n",
              "      <td>2329</td>\n",
              "      <td>Boy</td>\n",
              "      <td>Block</td>\n",
              "      <td>Death</td>\n",
              "      <td>I</td>\n",
              "      <td>0.480</td>\n",
              "      <td>0.390</td>\n",
              "      <td>0.145</td>\n",
              "      <td>0.5825</td>\n",
              "      <td>0.2315</td>\n",
              "      <td>0.1210</td>\n",
              "      <td>0.2550</td>\n",
              "      <td>15.0</td>\n",
              "      <td>Boy_Block_Death</td>\n",
              "      <td>16.5</td>\n",
              "      <td>0.1872</td>\n",
              "      <td>0.016069</td>\n",
              "      <td>5</td>\n",
              "      <td>False</td>\n",
              "      <td>2020</td>\n",
              "      <td>12</td>\n",
              "      <td>19</td>\n",
              "      <td>5</td>\n",
              "      <td>1.0</td>\n",
              "      <td>0.2180</td>\n",
              "      <td>0.266581</td>\n",
              "      <td>47.333333</td>\n",
              "      <td>343</td>\n",
              "    </tr>\n",
              "  </tbody>\n",
              "</table>\n",
              "</div>"
            ],
            "text/plain": [
              "     id        FN       SN       LN Sex  Length   Diam  Height   Whole  \\\n",
              "0   835       Kid  College  Machine   I   0.450  0.350   0.130  0.5470   \n",
              "1   540  Jalapeno     Glam  Machine   F   0.500  0.375   0.140  0.6040   \n",
              "2  2295      Baby     Full   Killer   F   0.520  0.415   0.145  0.8045   \n",
              "3   858       Kid     Rock     Head   F   0.595  0.480   0.150  1.1100   \n",
              "4  2329       Boy    Block    Death   I   0.480  0.390   0.145  0.5825   \n",
              "\n",
              "   Shucke  Viscera   Shell  Rings              full_name  age_in_years  \\\n",
              "0  0.2450   0.1405  0.1405    8.0    Kid_College_Machine           9.5   \n",
              "1  0.2420   0.1415  0.1790   15.0  Jalapeno_Glam_Machine          16.5   \n",
              "2  0.3325   0.1725  0.2850   10.0       Baby_Full_Killer          11.5   \n",
              "3  0.4980   0.2280  0.3300   10.0          Kid_Rock_Head          11.5   \n",
              "4  0.2315   0.1210  0.2550   15.0        Boy_Block_Death          16.5   \n",
              "\n",
              "     area   density  age_cat  high_class  year  month  day  weekday  age10  \\\n",
              "0  0.1575  0.014397        2       False  2020      6   21        6    0.0   \n",
              "1  0.1875  0.015522        5       False  2020      3    8        6    1.0   \n",
              "2  0.2158  0.013412        3       False  2020      2   22        5    1.0   \n",
              "3  0.2856  0.012865        3       False  2020      2   22        5    1.0   \n",
              "4  0.1872  0.016069        5       False  2020     12   19        5    1.0   \n",
              "\n",
              "   shell_by_weekday  area_by_age   rings_fn  n_month  \n",
              "0            0.2215     0.196913  47.333333      343  \n",
              "1            0.2215     0.266581  47.333333      343  \n",
              "2            0.2180     0.263954  47.333333      343  \n",
              "3            0.2180     0.263954  47.333333      343  \n",
              "4            0.2180     0.266581  47.333333      343  "
            ]
          },
          "metadata": {},
          "execution_count": 215
        }
      ]
    },
    {
      "cell_type": "code",
      "metadata": {
        "id": "AwdbUu2wYKpB"
      },
      "source": [
        "# Q21 Drop all generated features which used age or number of rings column, e.g. rings_month, age_cat.\n",
        "Y = df[\"age_in_years\"].values\n",
        "\n",
        "age_columns = ['age_in_years', 'age_cat', 'age10', 'area_by_age', 'Rings', 'rings_fn']\n",
        "good_columns = list(set(df.columns) - set(age_columns))\n",
        "Xdf = df[good_columns]"
      ],
      "execution_count": 217,
      "outputs": []
    },
    {
      "cell_type": "code",
      "metadata": {
        "id": "kINHDN92rzUP",
        "colab": {
          "base_uri": "https://localhost:8080/"
        },
        "outputId": "c47016d6-709c-4afe-e1cf-0590fff231cd"
      },
      "source": [
        "# Optionally create or drop any features \n",
        "Xdf.drop(['FN', 'LN', 'full_name', 'SN', 'Sex', 'id'], axis=1, inplace=True)"
      ],
      "execution_count": 218,
      "outputs": [
        {
          "output_type": "stream",
          "name": "stderr",
          "text": [
            "/usr/local/lib/python3.7/dist-packages/pandas/core/frame.py:4174: SettingWithCopyWarning: \n",
            "A value is trying to be set on a copy of a slice from a DataFrame\n",
            "\n",
            "See the caveats in the documentation: https://pandas.pydata.org/pandas-docs/stable/user_guide/indexing.html#returning-a-view-versus-a-copy\n",
            "  errors=errors,\n"
          ]
        }
      ]
    },
    {
      "cell_type": "code",
      "metadata": {
        "id": "hdLqDhuCYO1Z"
      },
      "source": [
        "# Q22 Split your data into train and test parts.\n",
        "# How many records (rows) do you have in train and test tables? (list of int)?\n",
        "\n",
        "# Use sklearn.model_selection.train_test_split with test_size=0.33 and random_state=7\n",
        "\n",
        "from sklearn.model_selection import train_test_split\n",
        "\n",
        "X_train, X_test, y_train, y_test = train_test_split(Xdf, Y, test_size=0.33, random_state=7)"
      ],
      "execution_count": 219,
      "outputs": []
    },
    {
      "cell_type": "code",
      "metadata": {
        "id": "X1fXyy4PLp8U"
      },
      "source": [
        "from sklearn.preprocessing import StandardScaler\n",
        "import warnings\n",
        "warnings.filterwarnings('ignore')\n",
        "scaler = StandardScaler()\n",
        "features = X_train.columns\n",
        "X_train[features] = scaler.fit_transform(X_train[features])\n",
        "X_test[features] = scaler.transform(X_test[features])"
      ],
      "execution_count": 220,
      "outputs": []
    },
    {
      "cell_type": "code",
      "metadata": {
        "colab": {
          "base_uri": "https://localhost:8080/"
        },
        "id": "yXCChhbGO2cu",
        "outputId": "abeca544-89d8-4239-bf71-fb000385264d"
      },
      "source": [
        "print([X_train.shape[0], X_test.shape[0]])"
      ],
      "execution_count": 221,
      "outputs": [
        {
          "output_type": "stream",
          "name": "stdout",
          "text": [
            "[2800, 1380]\n"
          ]
        }
      ]
    },
    {
      "cell_type": "code",
      "metadata": {
        "id": "xqubzK5rYQA9",
        "colab": {
          "base_uri": "https://localhost:8080/"
        },
        "outputId": "fa86683c-8f0e-4cfe-a64d-06944a8ae571"
      },
      "source": [
        "# Fit predictive regression models.\n",
        "\n",
        "# Q23.1 Use linear regression with l2 regularization (Ridge regression)\n",
        "from sklearn.linear_model import Ridge\n",
        "ridge = Ridge()\n",
        "ridge.fit(X_train, y_train)\n",
        "# Q23.2 Use decision tree regression\n",
        "# Q23.3 Use k nearest neighbours regression\n",
        "from sklearn.neighbors import KNeighborsRegressor\n",
        "knn = KNeighborsRegressor()\n",
        "knn.fit(X_train, y_train)"
      ],
      "execution_count": 222,
      "outputs": [
        {
          "output_type": "execute_result",
          "data": {
            "text/plain": [
              "KNeighborsRegressor(algorithm='auto', leaf_size=30, metric='minkowski',\n",
              "                    metric_params=None, n_jobs=None, n_neighbors=5, p=2,\n",
              "                    weights='uniform')"
            ]
          },
          "metadata": {},
          "execution_count": 222
        }
      ]
    },
    {
      "cell_type": "code",
      "metadata": {
        "id": "7uWxRty0YSBd",
        "colab": {
          "base_uri": "https://localhost:8080/"
        },
        "outputId": "a79772dc-5041-4a9f-da88-fea1e43206b8"
      },
      "source": [
        "# Use grid search to select optimal hyperparamters of your models.\n",
        "\n",
        "# Q24.1 Alpha for a ridge regression\n",
        "from sklearn.model_selection import GridSearchCV\n",
        "params_ridge = {'alpha': [0.1, 0.5, 1, 1.5, 2, 5, 10, 100]}\n",
        "grid_ridge = GridSearchCV(ridge, params_ridge)\n",
        "grid_ridge.fit(X_train, y_train)\n",
        "print(f'Best alpha: {grid_ridge.best_params_}')\n",
        "# Q24.2 Depth for the tree\n",
        "# Q24.3 Number of neighbours for the knn\n",
        "params_knn = {'n_neighbors': [2, 3, 4, 5, 6, 7, 8, 9, 10]}\n",
        "grid_knn = GridSearchCV(knn, params_knn)\n",
        "grid_knn.fit(X_train, y_train)\n",
        "print(f'Best Number of Neighbors: {grid_knn.best_params_}')"
      ],
      "execution_count": 223,
      "outputs": [
        {
          "output_type": "stream",
          "name": "stdout",
          "text": [
            "Best alpha: {'alpha': 0.1}\n",
            "Best Number of Neighbors: {'n_neighbors': 10}\n"
          ]
        }
      ]
    },
    {
      "cell_type": "code",
      "metadata": {
        "id": "IVihHjlpYTrB"
      },
      "source": [
        "# Compute train and test mean squared error for your best models (list of float).\n",
        "\n",
        "# Q25.1 Train, test MSE using linear regression with l2 regularization\n",
        "ridge = Ridge(alpha=0.1)\n",
        "ridge.fit(X_train, y_train)\n",
        "# Q25.2 Train, test MSE using decision tree regression\n",
        "# Q25.3 Train, test MSE using k nearest neighbours regression\n",
        "knn = KNeighborsRegressor(n_neighbors=5)\n",
        "knn.fit(X_train, y_train)\n",
        "\n",
        "from sklearn.metrics import mean_squared_error"
      ],
      "execution_count": 224,
      "outputs": []
    },
    {
      "cell_type": "code",
      "metadata": {
        "colab": {
          "base_uri": "https://localhost:8080/"
        },
        "id": "982d3AZYRhT8",
        "outputId": "742a28b1-fb28-44e9-e7e0-8c5359aba504"
      },
      "source": [
        "[mean_squared_error(y_train, ridge.predict(X_train)), mean_squared_error(y_test, ridge.predict(X_test)),mean_squared_error(y_train, knn.predict(X_train)),  mean_squared_error(y_test, knn.predict(X_test))]"
      ],
      "execution_count": 225,
      "outputs": [
        {
          "output_type": "execute_result",
          "data": {
            "text/plain": [
              "[4.694029802834318, 4.914263429186397, 4.392042857142857, 6.966057971014493]"
            ]
          },
          "metadata": {},
          "execution_count": 225
        }
      ]
    },
    {
      "cell_type": "code",
      "metadata": {
        "id": "jqwSIwVmYVZ6"
      },
      "source": [
        "# Compute train and test R^2 for your best models (list of float).\n",
        "\n",
        "# Q26.1 Train, test R^2 using linear regression with l2 regularization\n",
        "# Q26.2 Train, test R^2 using decision tree regression\n",
        "# Q26.3 Train, test R^2 using k nearest neighbours regression\n",
        "\n",
        "from scipy.stats import pearsonr\n",
        "from sklearn.metrics import r2_score\n"
      ],
      "execution_count": 226,
      "outputs": []
    },
    {
      "cell_type": "code",
      "metadata": {
        "colab": {
          "base_uri": "https://localhost:8080/"
        },
        "id": "jGwsJBBPSF0E",
        "outputId": "55af6c02-ba17-412f-dd1b-33ca4621413b"
      },
      "source": [
        "[r2_score(y_train, ridge.predict(X_train)), r2_score(y_test, ridge.predict(X_test)), r2_score(y_train, knn.predict(X_train)), r2_score(y_test, knn.predict(X_test))]"
      ],
      "execution_count": 227,
      "outputs": [
        {
          "output_type": "execute_result",
          "data": {
            "text/plain": [
              "[0.5505770732422763,\n",
              " 0.521405145998372,\n",
              " 0.5794903658023987,\n",
              " 0.32158307228627325]"
            ]
          },
          "metadata": {},
          "execution_count": 227
        }
      ]
    },
    {
      "cell_type": "code",
      "metadata": {
        "id": "qO3zWCyHYXQo"
      },
      "source": [
        "# Q27 Which features have largest (by absolute value) weight in your linear model (top 5 features)? (list of str)."
      ],
      "execution_count": 228,
      "outputs": []
    },
    {
      "cell_type": "code",
      "metadata": {
        "id": "sN8wa-IUSMq8"
      },
      "source": [
        "cols = X_train.columns\n",
        "weights = abs(ridge.coef_)\n",
        "f_imp = pd.DataFrame({'Feature': cols, 'Importance': weights})"
      ],
      "execution_count": 229,
      "outputs": []
    },
    {
      "cell_type": "code",
      "metadata": {
        "colab": {
          "base_uri": "https://localhost:8080/"
        },
        "id": "j1qe4WYmSgC3",
        "outputId": "1ecd6457-892e-4c92-f806-4a478c7b4623"
      },
      "source": [
        "f_imp.sort_values('Importance', ascending=False)['Feature'][:5].tolist()"
      ],
      "execution_count": 230,
      "outputs": [
        {
          "output_type": "execute_result",
          "data": {
            "text/plain": [
              "['Whole', 'Shucke', 'area', 'Diam', 'Shell']"
            ]
          },
          "metadata": {},
          "execution_count": 230
        }
      ]
    },
    {
      "cell_type": "markdown",
      "metadata": {
        "id": "9G_LlOHofTJp"
      },
      "source": [
        "# Make sure your .ipynb is linearly executable     \n",
        "# Kernel -> Restart & Run All -> No ERROR cells"
      ]
    },
    {
      "cell_type": "code",
      "metadata": {
        "id": "EKwFLX-oMO8E"
      },
      "source": [
        ""
      ],
      "execution_count": 230,
      "outputs": []
    }
  ]
}
